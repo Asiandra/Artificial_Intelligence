{
 "cells": [
  {
   "cell_type": "code",
   "execution_count": 2,
   "id": "1e287d9d",
   "metadata": {},
   "outputs": [
    {
     "name": "stdout",
     "output_type": "stream",
     "text": [
      "Enter the number of players (min 2): 4\n",
      "Enter the name of player 1: Tsukasa\n",
      "Enter the name of player 2: Rui\n",
      "Enter the name of player 3: Akito\n",
      "Enter the name of player 4: Touya\n",
      "\n",
      "Welcome to Hot Potato!\n",
      "\n",
      "Current players: Tsukasa, Rui, Akito, Touya\n",
      "Press Enter to start passing the potato...\n",
      "\n",
      "The potato exploded! Rui is out!\n",
      "\n",
      "Current players: Tsukasa, Akito, Touya\n",
      "Press Enter to start passing the potato...\n",
      "\n",
      "The potato exploded! Akito is out!\n",
      "\n",
      "Current players: Tsukasa, Touya\n",
      "Press Enter to start passing the potato...\n",
      "\n",
      "The potato exploded! Tsukasa is out!\n",
      "\n",
      "Touya is the winner!\n"
     ]
    }
   ],
   "source": [
    "import random\n",
    "import time\n",
    "\n",
    "def setup_game():\n",
    "    players = []\n",
    "    num_players = int(input(\"Enter the number of players (min 2): \"))\n",
    "    \n",
    "    if num_players < 2:\n",
    "        print(\"Not enough players. The game requires at least 2 players.\")\n",
    "        return []\n",
    "\n",
    "    for i in range(num_players):\n",
    "        name = input(f\"Enter the name of player {i + 1}: \")\n",
    "        players.append(name)\n",
    "\n",
    "    return players\n",
    "\n",
    "def hot_potato(players):\n",
    "    print(\"\\nWelcome to Hot Potato!\")\n",
    "    time.sleep(1)\n",
    "\n",
    "    while len(players) > 1:\n",
    "        print(f\"\\nCurrent players: {', '.join(players)}\")\n",
    "        input(\"Press Enter to start passing the potato...\")\n",
    "\n",
    "        passing_time = random.randint(1, 5)\n",
    "        time.sleep(passing_time)\n",
    "\n",
    "        eliminated_player = random.choice(players)\n",
    "        print(f\"\\nThe potato exploded! {eliminated_player} is out!\")\n",
    "        players.remove(eliminated_player)\n",
    "\n",
    "    print(f\"\\n{players[0]} is the winner!\")\n",
    "\n",
    "def hot_potato_game():\n",
    "    players = setup_game()\n",
    "    if players:\n",
    "        hot_potato(players)\n",
    "\n",
    "hot_potato_game()"
   ]
  },
  {
   "cell_type": "code",
   "execution_count": null,
   "id": "05b813c7",
   "metadata": {},
   "outputs": [],
   "source": []
  }
 ],
 "metadata": {
  "kernelspec": {
   "display_name": "Python 3 (ipykernel)",
   "language": "python",
   "name": "python3"
  },
  "language_info": {
   "codemirror_mode": {
    "name": "ipython",
    "version": 3
   },
   "file_extension": ".py",
   "mimetype": "text/x-python",
   "name": "python",
   "nbconvert_exporter": "python",
   "pygments_lexer": "ipython3",
   "version": "3.9.13"
  }
 },
 "nbformat": 4,
 "nbformat_minor": 5
}
