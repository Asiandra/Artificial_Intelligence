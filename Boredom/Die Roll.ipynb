{
 "cells": [
  {
   "cell_type": "code",
   "execution_count": 1,
   "id": "6fcaf576",
   "metadata": {},
   "outputs": [
    {
     "name": "stdout",
     "output_type": "stream",
     "text": [
      "You rolled a 1.\n",
      "Oh no! You rolled a bad number. You lose.\n"
     ]
    }
   ],
   "source": [
    "import random\n",
    "\n",
    "def dice_roll_risk():\n",
    "    # Define the bad outcomes (1 or 6 are bad in this example)\n",
    "    bad_outcomes = [1, 6]\n",
    "\n",
    "    # Roll the die\n",
    "    roll = random.randint(1, 6)\n",
    "    print(f\"You rolled a {roll}.\")\n",
    "\n",
    "    if roll in bad_outcomes:\n",
    "        return \"Oh no! You rolled a bad number. You lose.\"\n",
    "    else:\n",
    "        return \"Good roll! You're safe.\"\n",
    "\n",
    "# Example playthrough\n",
    "print(dice_roll_risk())"
   ]
  }
 ],
 "metadata": {
  "kernelspec": {
   "display_name": "Python 3 (ipykernel)",
   "language": "python",
   "name": "python3"
  },
  "language_info": {
   "codemirror_mode": {
    "name": "ipython",
    "version": 3
   },
   "file_extension": ".py",
   "mimetype": "text/x-python",
   "name": "python",
   "nbconvert_exporter": "python",
   "pygments_lexer": "ipython3",
   "version": "3.9.13"
  }
 },
 "nbformat": 4,
 "nbformat_minor": 5
}
