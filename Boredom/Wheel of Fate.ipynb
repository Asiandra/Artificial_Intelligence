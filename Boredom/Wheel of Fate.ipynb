{
 "cells": [
  {
   "cell_type": "code",
   "execution_count": null,
   "id": "93dccb47",
   "metadata": {},
   "outputs": [],
   "source": [
    "import random\n",
    "\n",
    "def wheel_of_fate():\n",
    "    # Define the outcomes: one losing outcome and several safe ones\n",
    "    outcomes = ['safe', 'safe', 'safe', 'safe', 'safe', 'loss']  # 1/6 chance of loss\n",
    "    random.shuffle(outcomes)  # Shuffle the wheel\n",
    "\n",
    "    # Spin the wheel\n",
    "    spin_result = random.choice(outcomes)  # Randomly pick a segment\n",
    "\n",
    "    if spin_result == 'loss':\n",
    "        return \"The wheel landed on a losing segment! You lose.\"\n",
    "    else:\n",
    "        return \"The wheel landed on a safe segment. You're safe!\"\n",
    "\n",
    "# Example playthrough\n",
    "print(wheel_of_fate())"
   ]
  }
 ],
 "metadata": {
  "kernelspec": {
   "display_name": "Python 3 (ipykernel)",
   "language": "python",
   "name": "python3"
  },
  "language_info": {
   "codemirror_mode": {
    "name": "ipython",
    "version": 3
   },
   "file_extension": ".py",
   "mimetype": "text/x-python",
   "name": "python",
   "nbconvert_exporter": "python",
   "pygments_lexer": "ipython3",
   "version": "3.9.13"
  }
 },
 "nbformat": 4,
 "nbformat_minor": 5
}
