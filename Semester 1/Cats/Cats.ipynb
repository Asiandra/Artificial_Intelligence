{
 "cells": [
  {
   "cell_type": "code",
   "execution_count": 12,
   "id": "ced463c1",
   "metadata": {
    "scrolled": true
   },
   "outputs": [
    {
     "name": "stdout",
     "output_type": "stream",
     "text": [
      "   Unnamed: 0          Breed  Age (Years)  Weight (kg)          Color  Gender  \\\n",
      "0           0   Egyptian Mau           12            7          White    Male   \n",
      "1           1  Scottish Fold           17            8  Tortoiseshell    Male   \n",
      "2           2         Sphynx            9            9         Orange    Male   \n",
      "3           3       Oriental            6            7           Gray  Female   \n",
      "4           4       Savannah           14            7  Tortoiseshell  Female   \n",
      "\n",
      "    ID  \n",
      "0  181  \n",
      "1  907  \n",
      "2  732  \n",
      "3  464  \n",
      "4  451  \n",
      "(1000, 7)\n",
      "     Unnamed: 0          Breed  Age (Years)  Weight (kg)          Color  \\\n",
      "0             0   Egyptian Mau           12            7          White   \n",
      "1             1  Scottish Fold           17            8  Tortoiseshell   \n",
      "2             2         Sphynx            9            9         Orange   \n",
      "3             3       Oriental            6            7           Gray   \n",
      "4             4       Savannah           14            7  Tortoiseshell   \n",
      "..          ...            ...          ...          ...            ...   \n",
      "995         995     Abyssinian           18            3          Black   \n",
      "996         996        Burmese            4            5        Pointed   \n",
      "997         997        Persian           19            9          Cream   \n",
      "998         998        Persian           17            3        Bicolor   \n",
      "999         999           Manx           18            8          Black   \n",
      "\n",
      "     Gender   ID  \n",
      "0      Male  181  \n",
      "1      Male  907  \n",
      "2      Male  732  \n",
      "3    Female  464  \n",
      "4    Female  451  \n",
      "..      ...  ...  \n",
      "995  Female  347  \n",
      "996  Female  339  \n",
      "997    Male  659  \n",
      "998  Female  124  \n",
      "999    Male  226  \n",
      "\n",
      "[1000 rows x 7 columns]\n"
     ]
    }
   ],
   "source": [
    "import pandas as pjsk\n",
    "\n",
    "file_path = r'C:\\Users\\klai\\OneDrive - Cherry Creek School District\\Desktop\\Artificial_Intelligence\\cats.csv'\n",
    "df = pjsk.read_csv(file_path)\n",
    "print(df.head())\n",
    "print(df.shape)\n",
    "print(df)"
   ]
  },
  {
   "cell_type": "code",
   "execution_count": null,
   "id": "68ef4afb",
   "metadata": {},
   "outputs": [],
   "source": [
    "df.loc[0][\"Breed\"]"
   ]
  },
  {
   "cell_type": "code",
   "execution_count": 13,
   "id": "fcfe19ce",
   "metadata": {
    "scrolled": true
   },
   "outputs": [
    {
     "ename": "NameError",
     "evalue": "name 'lem' is not defined",
     "output_type": "error",
     "traceback": [
      "\u001b[1;31m---------------------------------------------------------------------------\u001b[0m",
      "\u001b[1;31mNameError\u001b[0m                                 Traceback (most recent call last)",
      "\u001b[1;32m~\\AppData\\Local\\Temp\\ipykernel_12512\\418279755.py\u001b[0m in \u001b[0;36m<module>\u001b[1;34m\u001b[0m\n\u001b[1;32m----> 1\u001b[1;33m \u001b[0mdf\u001b[0m\u001b[1;33m.\u001b[0m\u001b[0mloc\u001b[0m\u001b[1;33m[\u001b[0m\u001b[0mlen\u001b[0m\u001b[1;33m(\u001b[0m\u001b[0mdf\u001b[0m\u001b[1;33m)\u001b[0m\u001b[1;33m]\u001b[0m \u001b[1;33m=\u001b[0m \u001b[1;33m[\u001b[0m\u001b[1;34m\"Orange Tabby\"\u001b[0m\u001b[1;33m,\u001b[0m \u001b[1;36m3\u001b[0m\u001b[1;33m,\u001b[0m \u001b[1;36m5\u001b[0m\u001b[1;33m,\u001b[0m \u001b[1;34m\"Orange\"\u001b[0m\u001b[1;33m,\u001b[0m \u001b[1;34m\"Male\"\u001b[0m\u001b[1;33m,\u001b[0m \u001b[0mlem\u001b[0m\u001b[1;33m(\u001b[0m\u001b[0mdf\u001b[0m\u001b[1;33m)\u001b[0m\u001b[1;33m]\u001b[0m\u001b[1;33m\u001b[0m\u001b[1;33m\u001b[0m\u001b[0m\n\u001b[0m",
      "\u001b[1;31mNameError\u001b[0m: name 'lem' is not defined"
     ]
    }
   ],
   "source": [
    "df.loc[len(df)] = [\"Orange Tabby\", 3, 5, \"Orange\", \"Male\", len(df)]"
   ]
  },
  {
   "cell_type": "code",
   "execution_count": 15,
   "id": "9ba98e99",
   "metadata": {},
   "outputs": [],
   "source": [
    "df['Weight (lbs)'] = df['Weight (kg)'] * 2.205"
   ]
  },
  {
   "cell_type": "code",
   "execution_count": null,
   "id": "9e1f6a0e",
   "metadata": {},
   "outputs": [],
   "source": []
  }
 ],
 "metadata": {
  "kernelspec": {
   "display_name": "Python 3 (ipykernel)",
   "language": "python",
   "name": "python3"
  },
  "language_info": {
   "codemirror_mode": {
    "name": "ipython",
    "version": 3
   },
   "file_extension": ".py",
   "mimetype": "text/x-python",
   "name": "python",
   "nbconvert_exporter": "python",
   "pygments_lexer": "ipython3",
   "version": "3.9.13"
  }
 },
 "nbformat": 4,
 "nbformat_minor": 5
}
