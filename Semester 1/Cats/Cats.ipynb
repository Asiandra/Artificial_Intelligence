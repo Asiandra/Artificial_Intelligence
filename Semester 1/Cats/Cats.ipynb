{
 "cells": [
  {
   "cell_type": "code",
   "execution_count": 12,
   "id": "ced463c1",
   "metadata": {},
   "outputs": [
    {
     "name": "stdout",
     "output_type": "stream",
     "text": [
      "   Unnamed: 0          Breed  Age (Years)  Weight (kg)          Color  Gender  \\\n",
      "0           0   Egyptian Mau           12            7          White    Male   \n",
      "1           1  Scottish Fold           17            8  Tortoiseshell    Male   \n",
      "2           2         Sphynx            9            9         Orange    Male   \n",
      "3           3       Oriental            6            7           Gray  Female   \n",
      "4           4       Savannah           14            7  Tortoiseshell  Female   \n",
      "\n",
      "    ID  \n",
      "0  181  \n",
      "1  907  \n",
      "2  732  \n",
      "3  464  \n",
      "4  451  \n",
      "(1000, 7)\n",
      "     Unnamed: 0          Breed  Age (Years)  Weight (kg)          Color  \\\n",
      "0             0   Egyptian Mau           12            7          White   \n",
      "1             1  Scottish Fold           17            8  Tortoiseshell   \n",
      "2             2         Sphynx            9            9         Orange   \n",
      "3             3       Oriental            6            7           Gray   \n",
      "4             4       Savannah           14            7  Tortoiseshell   \n",
      "..          ...            ...          ...          ...            ...   \n",
      "995         995     Abyssinian           18            3          Black   \n",
      "996         996        Burmese            4            5        Pointed   \n",
      "997         997        Persian           19            9          Cream   \n",
      "998         998        Persian           17            3        Bicolor   \n",
      "999         999           Manx           18            8          Black   \n",
      "\n",
      "     Gender   ID  \n",
      "0      Male  181  \n",
      "1      Male  907  \n",
      "2      Male  732  \n",
      "3    Female  464  \n",
      "4    Female  451  \n",
      "..      ...  ...  \n",
      "995  Female  347  \n",
      "996  Female  339  \n",
      "997    Male  659  \n",
      "998  Female  124  \n",
      "999    Male  226  \n",
      "\n",
      "[1000 rows x 7 columns]\n"
     ]
    }
   ],
   "source": [
    "import pandas as pjsk\n",
    "\n",
    "file_path = r'C:\\Users\\klai\\OneDrive - Cherry Creek School District\\Desktop\\Artificial_Intelligence\\cats.csv'\n",
    "df = pjsk.read_csv(file_path)\n",
    "print(df.head())\n",
    "print(df.shape)\n",
    "print(df)"
   ]
  },
  {
   "cell_type": "code",
   "execution_count": null,
   "id": "1069ed26",
   "metadata": {},
   "outputs": [],
   "source": []
  },
  {
   "cell_type": "code",
   "execution_count": null,
   "id": "7db88206",
   "metadata": {},
   "outputs": [],
   "source": []
  }
 ],
 "metadata": {
  "kernelspec": {
   "display_name": "Python 3 (ipykernel)",
   "language": "python",
   "name": "python3"
  },
  "language_info": {
   "codemirror_mode": {
    "name": "ipython",
    "version": 3
   },
   "file_extension": ".py",
   "mimetype": "text/x-python",
   "name": "python",
   "nbconvert_exporter": "python",
   "pygments_lexer": "ipython3",
   "version": "3.9.13"
  }
 },
 "nbformat": 4,
 "nbformat_minor": 5
}
