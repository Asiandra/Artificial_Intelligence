{
 "cells": [
  {
   "cell_type": "code",
   "execution_count": 1,
   "id": "a509ca7c",
   "metadata": {},
   "outputs": [
    {
     "name": "stdout",
     "output_type": "stream",
     "text": [
      "<class 'pandas.core.frame.DataFrame'>\n",
      "Int64Index: 97410 entries, 0 to 97409\n",
      "Data columns (total 38 columns):\n",
      " #   Column                    Non-Null Count  Dtype  \n",
      "---  ------                    --------------  -----  \n",
      " 0   ID                        97410 non-null  int64  \n",
      " 1   name                      97404 non-null  object \n",
      " 2   release_date              97410 non-null  object \n",
      " 3   estimated_owners          97410 non-null  object \n",
      " 4   peak_ccu                  97410 non-null  int64  \n",
      " 5   required_age              97410 non-null  int64  \n",
      " 6   price                     97410 non-null  float64\n",
      " 7   dlc_count                 97410 non-null  int64  \n",
      " 8   main_description          92540 non-null  object \n",
      " 9   supported_languages       97410 non-null  object \n",
      " 10  full_audio_languages      97410 non-null  object \n",
      " 11  reviews                   10125 non-null  object \n",
      " 12  header_image              97410 non-null  object \n",
      " 13  website                   42737 non-null  object \n",
      " 14  support_url               45908 non-null  object \n",
      " 15  support_email             81378 non-null  object \n",
      " 16  windows                   97410 non-null  bool   \n",
      " 17  mac                       97410 non-null  bool   \n",
      " 18  linux                     97410 non-null  bool   \n",
      " 19  metacritic_score          97410 non-null  int64  \n",
      " 20  metacriticURL             3953 non-null   object \n",
      " 21  user_score                97410 non-null  int64  \n",
      " 22  positive                  97410 non-null  int64  \n",
      " 23  negative                  97410 non-null  int64  \n",
      " 24  score_rank                44 non-null     float64\n",
      " 25  achievements              97410 non-null  int64  \n",
      " 26  recommendations           97410 non-null  int64  \n",
      " 27  notes                     15474 non-null  object \n",
      " 28  average_playtime_forever  97410 non-null  int64  \n",
      " 29  average_playtime_2weeks   97410 non-null  int64  \n",
      " 30  median_playtime_forever   97410 non-null  int64  \n",
      " 31  packages                  97410 non-null  int64  \n",
      " 32  developers                92534 non-null  object \n",
      " 33  publishers                92274 non-null  object \n",
      " 34  categories                91497 non-null  object \n",
      " 35  genres                    92569 non-null  object \n",
      " 36  tags                      67647 non-null  object \n",
      " 37  screenshots               94515 non-null  object \n",
      "dtypes: bool(3), float64(2), int64(14), object(19)\n",
      "memory usage: 27.0+ MB\n"
     ]
    }
   ],
   "source": [
    "import pandas as pd\n",
    "import seaborn as sns\n",
    "import matplotlib.pyplot as plt\n",
    "\n",
    "df=pd.read_json(\"games.json\")\n",
    "df.info()"
   ]
  },
  {
   "cell_type": "code",
   "execution_count": 2,
   "id": "febe93f1",
   "metadata": {},
   "outputs": [
    {
     "data": {
      "text/html": [
       "<div>\n",
       "<style scoped>\n",
       "    .dataframe tbody tr th:only-of-type {\n",
       "        vertical-align: middle;\n",
       "    }\n",
       "\n",
       "    .dataframe tbody tr th {\n",
       "        vertical-align: top;\n",
       "    }\n",
       "\n",
       "    .dataframe thead th {\n",
       "        text-align: right;\n",
       "    }\n",
       "</style>\n",
       "<table border=\"1\" class=\"dataframe\">\n",
       "  <thead>\n",
       "    <tr style=\"text-align: right;\">\n",
       "      <th></th>\n",
       "      <th>ID</th>\n",
       "      <th>name</th>\n",
       "      <th>release_date</th>\n",
       "      <th>estimated_owners</th>\n",
       "      <th>peak_ccu</th>\n",
       "      <th>required_age</th>\n",
       "      <th>price</th>\n",
       "      <th>dlc_count</th>\n",
       "      <th>main_description</th>\n",
       "      <th>supported_languages</th>\n",
       "      <th>...</th>\n",
       "      <th>average_playtime_forever</th>\n",
       "      <th>average_playtime_2weeks</th>\n",
       "      <th>median_playtime_forever</th>\n",
       "      <th>packages</th>\n",
       "      <th>developers</th>\n",
       "      <th>publishers</th>\n",
       "      <th>categories</th>\n",
       "      <th>genres</th>\n",
       "      <th>tags</th>\n",
       "      <th>screenshots</th>\n",
       "    </tr>\n",
       "  </thead>\n",
       "  <tbody>\n",
       "    <tr>\n",
       "      <th>0</th>\n",
       "      <td>20200</td>\n",
       "      <td>Galactic Bowling</td>\n",
       "      <td>Oct 21, 2008</td>\n",
       "      <td>0 - 20000</td>\n",
       "      <td>0</td>\n",
       "      <td>0</td>\n",
       "      <td>19.99</td>\n",
       "      <td>0</td>\n",
       "      <td>Galactic Bowling is an exaggerated and stylize...</td>\n",
       "      <td>['English']</td>\n",
       "      <td>...</td>\n",
       "      <td>0</td>\n",
       "      <td>0</td>\n",
       "      <td>0</td>\n",
       "      <td>0</td>\n",
       "      <td>Perpetual FX Creative</td>\n",
       "      <td>Perpetual FX Creative</td>\n",
       "      <td>Single-player,Multi-player,Steam Achievements,...</td>\n",
       "      <td>Casual,Indie,Sports</td>\n",
       "      <td>Indie,Casual,Sports,Bowling</td>\n",
       "      <td>https://cdn.akamai.steamstatic.com/steam/apps/...</td>\n",
       "    </tr>\n",
       "    <tr>\n",
       "      <th>1</th>\n",
       "      <td>655370</td>\n",
       "      <td>Train Bandit</td>\n",
       "      <td>Oct 12, 2017</td>\n",
       "      <td>0 - 20000</td>\n",
       "      <td>0</td>\n",
       "      <td>0</td>\n",
       "      <td>0.99</td>\n",
       "      <td>0</td>\n",
       "      <td>THE LAW!! Looks to be a showdown atop a train....</td>\n",
       "      <td>['English', 'French', 'Italian', 'German', 'Sp...</td>\n",
       "      <td>...</td>\n",
       "      <td>0</td>\n",
       "      <td>0</td>\n",
       "      <td>0</td>\n",
       "      <td>0</td>\n",
       "      <td>Rusty Moyher</td>\n",
       "      <td>Wild Rooster</td>\n",
       "      <td>Single-player,Steam Achievements,Full controll...</td>\n",
       "      <td>Action,Indie</td>\n",
       "      <td>Indie,Action,Pixel Graphics,2D,Retro,Arcade,Sc...</td>\n",
       "      <td>https://cdn.akamai.steamstatic.com/steam/apps/...</td>\n",
       "    </tr>\n",
       "    <tr>\n",
       "      <th>2</th>\n",
       "      <td>1732930</td>\n",
       "      <td>Jolt Project</td>\n",
       "      <td>Nov 17, 2021</td>\n",
       "      <td>0 - 20000</td>\n",
       "      <td>0</td>\n",
       "      <td>0</td>\n",
       "      <td>4.99</td>\n",
       "      <td>0</td>\n",
       "      <td>Jolt Project: The army now has a new robotics ...</td>\n",
       "      <td>['English', 'Portuguese - Brazil']</td>\n",
       "      <td>...</td>\n",
       "      <td>0</td>\n",
       "      <td>0</td>\n",
       "      <td>0</td>\n",
       "      <td>0</td>\n",
       "      <td>Campião Games</td>\n",
       "      <td>Campião Games</td>\n",
       "      <td>Single-player</td>\n",
       "      <td>Action,Adventure,Indie,Strategy</td>\n",
       "      <td>None</td>\n",
       "      <td>https://cdn.akamai.steamstatic.com/steam/apps/...</td>\n",
       "    </tr>\n",
       "    <tr>\n",
       "      <th>3</th>\n",
       "      <td>1355720</td>\n",
       "      <td>Henosis™</td>\n",
       "      <td>Jul 23, 2020</td>\n",
       "      <td>0 - 20000</td>\n",
       "      <td>0</td>\n",
       "      <td>0</td>\n",
       "      <td>5.99</td>\n",
       "      <td>0</td>\n",
       "      <td>HENOSIS™ is a mysterious 2D Platform Puzzler w...</td>\n",
       "      <td>['English', 'French', 'Italian', 'German', 'Sp...</td>\n",
       "      <td>...</td>\n",
       "      <td>0</td>\n",
       "      <td>0</td>\n",
       "      <td>0</td>\n",
       "      <td>0</td>\n",
       "      <td>Odd Critter Games</td>\n",
       "      <td>Odd Critter Games</td>\n",
       "      <td>Single-player,Full controller support</td>\n",
       "      <td>Adventure,Casual,Indie</td>\n",
       "      <td>2D Platformer,Atmospheric,Surreal,Mystery,Puzz...</td>\n",
       "      <td>https://cdn.akamai.steamstatic.com/steam/apps/...</td>\n",
       "    </tr>\n",
       "    <tr>\n",
       "      <th>4</th>\n",
       "      <td>1139950</td>\n",
       "      <td>Two Weeks in Painland</td>\n",
       "      <td>Feb 3, 2020</td>\n",
       "      <td>0 - 20000</td>\n",
       "      <td>0</td>\n",
       "      <td>0</td>\n",
       "      <td>0.00</td>\n",
       "      <td>0</td>\n",
       "      <td>ABOUT THE GAME Play as a hacker who has arrang...</td>\n",
       "      <td>['English', 'Spanish - Spain']</td>\n",
       "      <td>...</td>\n",
       "      <td>0</td>\n",
       "      <td>0</td>\n",
       "      <td>0</td>\n",
       "      <td>0</td>\n",
       "      <td>Unusual Games</td>\n",
       "      <td>Unusual Games</td>\n",
       "      <td>Single-player,Steam Achievements</td>\n",
       "      <td>Adventure,Indie</td>\n",
       "      <td>Indie,Adventure,Nudity,Violent,Sexual Content,...</td>\n",
       "      <td>https://cdn.akamai.steamstatic.com/steam/apps/...</td>\n",
       "    </tr>\n",
       "  </tbody>\n",
       "</table>\n",
       "<p>5 rows × 38 columns</p>\n",
       "</div>"
      ],
      "text/plain": [
       "        ID                   name  release_date estimated_owners  peak_ccu  \\\n",
       "0    20200       Galactic Bowling  Oct 21, 2008        0 - 20000         0   \n",
       "1   655370           Train Bandit  Oct 12, 2017        0 - 20000         0   \n",
       "2  1732930           Jolt Project  Nov 17, 2021        0 - 20000         0   \n",
       "3  1355720               Henosis™  Jul 23, 2020        0 - 20000         0   \n",
       "4  1139950  Two Weeks in Painland   Feb 3, 2020        0 - 20000         0   \n",
       "\n",
       "   required_age  price  dlc_count  \\\n",
       "0             0  19.99          0   \n",
       "1             0   0.99          0   \n",
       "2             0   4.99          0   \n",
       "3             0   5.99          0   \n",
       "4             0   0.00          0   \n",
       "\n",
       "                                    main_description  \\\n",
       "0  Galactic Bowling is an exaggerated and stylize...   \n",
       "1  THE LAW!! Looks to be a showdown atop a train....   \n",
       "2  Jolt Project: The army now has a new robotics ...   \n",
       "3  HENOSIS™ is a mysterious 2D Platform Puzzler w...   \n",
       "4  ABOUT THE GAME Play as a hacker who has arrang...   \n",
       "\n",
       "                                 supported_languages  ...  \\\n",
       "0                                        ['English']  ...   \n",
       "1  ['English', 'French', 'Italian', 'German', 'Sp...  ...   \n",
       "2                 ['English', 'Portuguese - Brazil']  ...   \n",
       "3  ['English', 'French', 'Italian', 'German', 'Sp...  ...   \n",
       "4                     ['English', 'Spanish - Spain']  ...   \n",
       "\n",
       "  average_playtime_forever average_playtime_2weeks median_playtime_forever  \\\n",
       "0                        0                       0                       0   \n",
       "1                        0                       0                       0   \n",
       "2                        0                       0                       0   \n",
       "3                        0                       0                       0   \n",
       "4                        0                       0                       0   \n",
       "\n",
       "  packages             developers             publishers  \\\n",
       "0        0  Perpetual FX Creative  Perpetual FX Creative   \n",
       "1        0           Rusty Moyher           Wild Rooster   \n",
       "2        0          Campião Games          Campião Games   \n",
       "3        0      Odd Critter Games      Odd Critter Games   \n",
       "4        0          Unusual Games          Unusual Games   \n",
       "\n",
       "                                          categories  \\\n",
       "0  Single-player,Multi-player,Steam Achievements,...   \n",
       "1  Single-player,Steam Achievements,Full controll...   \n",
       "2                                      Single-player   \n",
       "3              Single-player,Full controller support   \n",
       "4                   Single-player,Steam Achievements   \n",
       "\n",
       "                            genres  \\\n",
       "0              Casual,Indie,Sports   \n",
       "1                     Action,Indie   \n",
       "2  Action,Adventure,Indie,Strategy   \n",
       "3           Adventure,Casual,Indie   \n",
       "4                  Adventure,Indie   \n",
       "\n",
       "                                                tags  \\\n",
       "0                        Indie,Casual,Sports,Bowling   \n",
       "1  Indie,Action,Pixel Graphics,2D,Retro,Arcade,Sc...   \n",
       "2                                               None   \n",
       "3  2D Platformer,Atmospheric,Surreal,Mystery,Puzz...   \n",
       "4  Indie,Adventure,Nudity,Violent,Sexual Content,...   \n",
       "\n",
       "                                         screenshots  \n",
       "0  https://cdn.akamai.steamstatic.com/steam/apps/...  \n",
       "1  https://cdn.akamai.steamstatic.com/steam/apps/...  \n",
       "2  https://cdn.akamai.steamstatic.com/steam/apps/...  \n",
       "3  https://cdn.akamai.steamstatic.com/steam/apps/...  \n",
       "4  https://cdn.akamai.steamstatic.com/steam/apps/...  \n",
       "\n",
       "[5 rows x 38 columns]"
      ]
     },
     "execution_count": 2,
     "metadata": {},
     "output_type": "execute_result"
    }
   ],
   "source": [
    "df.head()"
   ]
  },
  {
   "cell_type": "code",
   "execution_count": 3,
   "id": "55909766",
   "metadata": {},
   "outputs": [
    {
     "data": {
      "text/plain": [
       "Index(['ID', 'name', 'release_date', 'estimated_owners', 'peak_ccu',\n",
       "       'required_age', 'price', 'dlc_count', 'main_description',\n",
       "       'supported_languages', 'full_audio_languages', 'reviews',\n",
       "       'header_image', 'website', 'support_url', 'support_email', 'windows',\n",
       "       'mac', 'linux', 'metacritic_score', 'metacriticURL', 'user_score',\n",
       "       'positive', 'negative', 'score_rank', 'achievements', 'recommendations',\n",
       "       'notes', 'average_playtime_forever', 'average_playtime_2weeks',\n",
       "       'median_playtime_forever', 'packages', 'developers', 'publishers',\n",
       "       'categories', 'genres', 'tags', 'screenshots'],\n",
       "      dtype='object')"
      ]
     },
     "execution_count": 3,
     "metadata": {},
     "output_type": "execute_result"
    }
   ],
   "source": [
    "df.columns"
   ]
  },
  {
   "cell_type": "code",
   "execution_count": 4,
   "id": "9e2b6342",
   "metadata": {},
   "outputs": [
    {
     "data": {
      "text/html": [
       "<div>\n",
       "<style scoped>\n",
       "    .dataframe tbody tr th:only-of-type {\n",
       "        vertical-align: middle;\n",
       "    }\n",
       "\n",
       "    .dataframe tbody tr th {\n",
       "        vertical-align: top;\n",
       "    }\n",
       "\n",
       "    .dataframe thead th {\n",
       "        text-align: right;\n",
       "    }\n",
       "</style>\n",
       "<table border=\"1\" class=\"dataframe\">\n",
       "  <thead>\n",
       "    <tr style=\"text-align: right;\">\n",
       "      <th></th>\n",
       "      <th>ID</th>\n",
       "      <th>name</th>\n",
       "      <th>release_date</th>\n",
       "      <th>estimated_owners</th>\n",
       "      <th>peak_ccu</th>\n",
       "      <th>required_age</th>\n",
       "      <th>price</th>\n",
       "      <th>dlc_count</th>\n",
       "      <th>main_description</th>\n",
       "      <th>supported_languages</th>\n",
       "      <th>...</th>\n",
       "      <th>average_playtime_forever</th>\n",
       "      <th>average_playtime_2weeks</th>\n",
       "      <th>median_playtime_forever</th>\n",
       "      <th>packages</th>\n",
       "      <th>developers</th>\n",
       "      <th>publishers</th>\n",
       "      <th>categories</th>\n",
       "      <th>genres</th>\n",
       "      <th>tags</th>\n",
       "      <th>screenshots</th>\n",
       "    </tr>\n",
       "  </thead>\n",
       "  <tbody>\n",
       "    <tr>\n",
       "      <th>1025</th>\n",
       "      <td>22380</td>\n",
       "      <td>Fallout: New Vegas</td>\n",
       "      <td>Oct 19, 2010</td>\n",
       "      <td>2000000 - 5000000</td>\n",
       "      <td>5776</td>\n",
       "      <td>16</td>\n",
       "      <td>9.99</td>\n",
       "      <td>0</td>\n",
       "      <td>Welcome to Vegas. New Vegas. It’s the kind of ...</td>\n",
       "      <td>['English', 'French', 'German', 'Italian', 'Sp...</td>\n",
       "      <td>...</td>\n",
       "      <td>3044</td>\n",
       "      <td>112</td>\n",
       "      <td>976</td>\n",
       "      <td>153</td>\n",
       "      <td>Obsidian Entertainment</td>\n",
       "      <td>Bethesda Softworks</td>\n",
       "      <td>Single-player,Steam Achievements,Partial Contr...</td>\n",
       "      <td>Action,RPG</td>\n",
       "      <td>Open World,RPG,Post-apocalyptic,Singleplayer,M...</td>\n",
       "      <td>https://cdn.akamai.steamstatic.com/steam/apps/...</td>\n",
       "    </tr>\n",
       "  </tbody>\n",
       "</table>\n",
       "<p>1 rows × 38 columns</p>\n",
       "</div>"
      ],
      "text/plain": [
       "         ID                name  release_date   estimated_owners  peak_ccu  \\\n",
       "1025  22380  Fallout: New Vegas  Oct 19, 2010  2000000 - 5000000      5776   \n",
       "\n",
       "      required_age  price  dlc_count  \\\n",
       "1025            16   9.99          0   \n",
       "\n",
       "                                       main_description  \\\n",
       "1025  Welcome to Vegas. New Vegas. It’s the kind of ...   \n",
       "\n",
       "                                    supported_languages  ...  \\\n",
       "1025  ['English', 'French', 'German', 'Italian', 'Sp...  ...   \n",
       "\n",
       "     average_playtime_forever average_playtime_2weeks median_playtime_forever  \\\n",
       "1025                     3044                     112                     976   \n",
       "\n",
       "     packages              developers          publishers  \\\n",
       "1025      153  Obsidian Entertainment  Bethesda Softworks   \n",
       "\n",
       "                                             categories      genres  \\\n",
       "1025  Single-player,Steam Achievements,Partial Contr...  Action,RPG   \n",
       "\n",
       "                                                   tags  \\\n",
       "1025  Open World,RPG,Post-apocalyptic,Singleplayer,M...   \n",
       "\n",
       "                                            screenshots  \n",
       "1025  https://cdn.akamai.steamstatic.com/steam/apps/...  \n",
       "\n",
       "[1 rows x 38 columns]"
      ]
     },
     "execution_count": 4,
     "metadata": {},
     "output_type": "execute_result"
    }
   ],
   "source": [
    "df[df['ID']==22380]"
   ]
  },
  {
   "cell_type": "markdown",
   "id": "3c781ba1",
   "metadata": {},
   "source": [
    "<span style=\"color: #19cd94\">The game with ID 2238, is Fallout: New Vegas. It is $10 on Steam, and you have to be 16 to play it. It was ccreated by Obsidian Entertainment and published by Bethesda Softworks.</span>"
   ]
  },
  {
   "cell_type": "code",
   "execution_count": 5,
   "id": "90839ff8",
   "metadata": {},
   "outputs": [
    {
     "data": {
      "text/plain": [
       "'\\nCoD={\\'name\\': [\"Call of Duty\"]}\\ndf=pd.DataFrame(CoD)\\nCoD_Games=df[df[\\'name\\'].str.contains(\\'Call of Duty\\', case=False, na=False)]\\ndf.CoD_Games()\\n'"
      ]
     },
     "execution_count": 5,
     "metadata": {},
     "output_type": "execute_result"
    }
   ],
   "source": [
    "'''\n",
    "CoD={'name': [\"Call of Duty\"]}\n",
    "df=pd.DataFrame(CoD)\n",
    "CoD_Games=df[df['name'].str.contains('Call of Duty', case=False, na=False)]\n",
    "df.CoD_Games()\n",
    "'''"
   ]
  },
  {
   "cell_type": "code",
   "execution_count": 6,
   "id": "176a2d00",
   "metadata": {},
   "outputs": [
    {
     "data": {
      "text/plain": [
       "35"
      ]
     },
     "execution_count": 6,
     "metadata": {},
     "output_type": "execute_result"
    }
   ],
   "source": [
    "CoD_Game=0\n",
    "for game in df[\"name\"]:\n",
    "    if pd.notna(game) and \"Call of Duty\" in game:\n",
    "        if \"Call of Duty\" in game:\n",
    "            CoD_Game+=1\n",
    "\n",
    "CoD_Game"
   ]
  },
  {
   "cell_type": "code",
   "execution_count": 7,
   "id": "305f2dc8",
   "metadata": {},
   "outputs": [
    {
     "data": {
      "text/plain": [
       "ID                                                                       7940\n",
       "name                                         Call of Duty® 4: Modern Warfare®\n",
       "release_date                                                     Nov 12, 2007\n",
       "estimated_owners                                            1000000 - 2000000\n",
       "peak_ccu                                                                  495\n",
       "required_age                                                               17\n",
       "price                                                                    9.99\n",
       "dlc_count                                                                   0\n",
       "main_description            The new action-thriller from the award-winning...\n",
       "supported_languages         ['English', 'French', 'German', 'Italian', 'Sp...\n",
       "full_audio_languages                                                       []\n",
       "reviews                     Winner of more than 40 E3 2007 awards : Editor...\n",
       "header_image                https://cdn.akamai.steamstatic.com/steam/apps/...\n",
       "website                                     http://www.charlieoscardelta.com/\n",
       "support_url                                    http://support.activision.com/\n",
       "support_email                                                            None\n",
       "windows                                                                  True\n",
       "mac                                                                      True\n",
       "linux                                                                   False\n",
       "metacritic_score                                                           92\n",
       "metacriticURL               https://www.metacritic.com/game/pc/call-of-dut...\n",
       "user_score                                                                  0\n",
       "positive                                                                16788\n",
       "negative                                                                 1211\n",
       "score_rank                                                                NaN\n",
       "achievements                                                                0\n",
       "recommendations                                                         13997\n",
       "notes                                                                    None\n",
       "average_playtime_forever                                                 1034\n",
       "average_playtime_2weeks                                                    51\n",
       "median_playtime_forever                                                   449\n",
       "packages                                                                   51\n",
       "developers                                                      Infinity Ward\n",
       "publishers                                                         Activision\n",
       "categories                                         Single-player,Multi-player\n",
       "genres                                                                 Action\n",
       "tags                        FPS,Action,Multiplayer,Shooter,Singleplayer,Fi...\n",
       "screenshots                 https://cdn.akamai.steamstatic.com/steam/apps/...\n",
       "Name: 136, dtype: object"
      ]
     },
     "execution_count": 7,
     "metadata": {},
     "output_type": "execute_result"
    }
   ],
   "source": [
    "df.loc[136]"
   ]
  },
  {
   "cell_type": "code",
   "execution_count": 8,
   "id": "fd3fcf1a",
   "metadata": {},
   "outputs": [
    {
     "data": {
      "text/plain": [
       "<AxesSubplot:xlabel='metacritic_score', ylabel='price'>"
      ]
     },
     "execution_count": 8,
     "metadata": {},
     "output_type": "execute_result"
    },
    {
     "data": {
      "image/png": "[encoded data removed]",
      "text/plain": [
       "<Figure size 640x480 with 1 Axes>"
      ]
     },
     "metadata": {},
     "output_type": "display_data"
    }
   ],
   "source": [
    "sns.scatterplot(data=df,x=\"metacritic_score\", y=\"price\")"
   ]
  },
  {
   "cell_type": "code",
   "execution_count": 9,
   "id": "193f16ea",
   "metadata": {},
   "outputs": [
    {
     "data": {
      "text/plain": [
       "<AxesSubplot:xlabel='price', ylabel='metacritic_score'>"
      ]
     },
     "execution_count": 9,
     "metadata": {},
     "output_type": "execute_result"
    },
    {
     "data": {
      "image/png": "[encoded data removed]",
      "text/plain": [
       "<Figure size 640x480 with 1 Axes>"
      ]
     },
     "metadata": {},
     "output_type": "display_data"
    }
   ],
   "source": [
    "sns.scatterplot(data=df,x=\"price\", y=\"metacritic_score\")"
   ]
  },
  {
   "cell_type": "code",
   "execution_count": 10,
   "id": "75dd3278",
   "metadata": {},
   "outputs": [
    {
     "data": {
      "text/html": [
       "<div>\n",
       "<style scoped>\n",
       "    .dataframe tbody tr th:only-of-type {\n",
       "        vertical-align: middle;\n",
       "    }\n",
       "\n",
       "    .dataframe tbody tr th {\n",
       "        vertical-align: top;\n",
       "    }\n",
       "\n",
       "    .dataframe thead th {\n",
       "        text-align: right;\n",
       "    }\n",
       "</style>\n",
       "<table border=\"1\" class=\"dataframe\">\n",
       "  <thead>\n",
       "    <tr style=\"text-align: right;\">\n",
       "      <th></th>\n",
       "      <th>ID</th>\n",
       "      <th>name</th>\n",
       "      <th>release_date</th>\n",
       "      <th>estimated_owners</th>\n",
       "      <th>peak_ccu</th>\n",
       "      <th>required_age</th>\n",
       "      <th>price</th>\n",
       "      <th>dlc_count</th>\n",
       "      <th>main_description</th>\n",
       "      <th>supported_languages</th>\n",
       "      <th>...</th>\n",
       "      <th>average_playtime_forever</th>\n",
       "      <th>average_playtime_2weeks</th>\n",
       "      <th>median_playtime_forever</th>\n",
       "      <th>packages</th>\n",
       "      <th>developers</th>\n",
       "      <th>publishers</th>\n",
       "      <th>categories</th>\n",
       "      <th>genres</th>\n",
       "      <th>tags</th>\n",
       "      <th>screenshots</th>\n",
       "    </tr>\n",
       "  </thead>\n",
       "  <tbody>\n",
       "    <tr>\n",
       "      <th>81901</th>\n",
       "      <td>2499620</td>\n",
       "      <td>The Leverage Game</td>\n",
       "      <td>Aug 25, 2023</td>\n",
       "      <td>0 - 20000</td>\n",
       "      <td>0</td>\n",
       "      <td>0</td>\n",
       "      <td>999.98</td>\n",
       "      <td>0</td>\n",
       "      <td>The Leverage Game is a board game in which pla...</td>\n",
       "      <td>['English', 'Japanese']</td>\n",
       "      <td>...</td>\n",
       "      <td>0</td>\n",
       "      <td>0</td>\n",
       "      <td>0</td>\n",
       "      <td>0</td>\n",
       "      <td>A&amp;S Inc.</td>\n",
       "      <td>A&amp;S Inc.</td>\n",
       "      <td>Single-player,Multi-player,PvP,Online PvP</td>\n",
       "      <td>Indie,Simulation</td>\n",
       "      <td>None</td>\n",
       "      <td>https://cdn.akamai.steamstatic.com/steam/apps/...</td>\n",
       "    </tr>\n",
       "    <tr>\n",
       "      <th>82971</th>\n",
       "      <td>2504210</td>\n",
       "      <td>The Leverage Game Business Edition</td>\n",
       "      <td>Aug 26, 2023</td>\n",
       "      <td>0 - 20000</td>\n",
       "      <td>0</td>\n",
       "      <td>0</td>\n",
       "      <td>999.98</td>\n",
       "      <td>0</td>\n",
       "      <td>The Leverage Game is a board game in which pla...</td>\n",
       "      <td>['English', 'Japanese']</td>\n",
       "      <td>...</td>\n",
       "      <td>0</td>\n",
       "      <td>0</td>\n",
       "      <td>0</td>\n",
       "      <td>0</td>\n",
       "      <td>A&amp;S Inc.</td>\n",
       "      <td>A&amp;S Inc.</td>\n",
       "      <td>Single-player,Multi-player,PvP</td>\n",
       "      <td>Indie,Simulation</td>\n",
       "      <td>None</td>\n",
       "      <td>https://cdn.akamai.steamstatic.com/steam/apps/...</td>\n",
       "    </tr>\n",
       "  </tbody>\n",
       "</table>\n",
       "<p>2 rows × 38 columns</p>\n",
       "</div>"
      ],
      "text/plain": [
       "            ID                                name  release_date  \\\n",
       "81901  2499620                   The Leverage Game  Aug 25, 2023   \n",
       "82971  2504210  The Leverage Game Business Edition  Aug 26, 2023   \n",
       "\n",
       "      estimated_owners  peak_ccu  required_age   price  dlc_count  \\\n",
       "81901        0 - 20000         0             0  999.98          0   \n",
       "82971        0 - 20000         0             0  999.98          0   \n",
       "\n",
       "                                        main_description  \\\n",
       "81901  The Leverage Game is a board game in which pla...   \n",
       "82971  The Leverage Game is a board game in which pla...   \n",
       "\n",
       "           supported_languages  ... average_playtime_forever  \\\n",
       "81901  ['English', 'Japanese']  ...                        0   \n",
       "82971  ['English', 'Japanese']  ...                        0   \n",
       "\n",
       "      average_playtime_2weeks median_playtime_forever packages developers  \\\n",
       "81901                       0                       0        0   A&S Inc.   \n",
       "82971                       0                       0        0   A&S Inc.   \n",
       "\n",
       "      publishers                                 categories            genres  \\\n",
       "81901   A&S Inc.  Single-player,Multi-player,PvP,Online PvP  Indie,Simulation   \n",
       "82971   A&S Inc.             Single-player,Multi-player,PvP  Indie,Simulation   \n",
       "\n",
       "       tags                                        screenshots  \n",
       "81901  None  https://cdn.akamai.steamstatic.com/steam/apps/...  \n",
       "82971  None  https://cdn.akamai.steamstatic.com/steam/apps/...  \n",
       "\n",
       "[2 rows x 38 columns]"
      ]
     },
     "execution_count": 10,
     "metadata": {},
     "output_type": "execute_result"
    }
   ],
   "source": [
    "df[df[\"price\"]==999.98]"
   ]
  },
  {
   "cell_type": "code",
   "execution_count": 11,
   "id": "c990f396",
   "metadata": {},
   "outputs": [
    {
     "data": {
      "text/plain": [
       "7.08626157478198"
      ]
     },
     "execution_count": 11,
     "metadata": {},
     "output_type": "execute_result"
    }
   ],
   "source": [
    "df[\"price\"].mean()"
   ]
  },
  {
   "cell_type": "markdown",
   "id": "4f522a78",
   "metadata": {},
   "source": [
    "<span style=\"color: #19cd94\">There is a huge outlier, The Leverage Game. It is a gambling game on Steam worth 999.98 dollars and is VERY overpriced compared to other games. The average clost of a video game on Steam is 7 dollars.</span>"
   ]
  },
  {
   "cell_type": "code",
   "execution_count": 12,
   "id": "bfbd7fc5",
   "metadata": {},
   "outputs": [],
   "source": [
    "dfCleaned = df.drop([81901, 82971, 46158], inplace=True)"
   ]
  },
  {
   "cell_type": "code",
   "execution_count": 13,
   "id": "dcf4fb35",
   "metadata": {},
   "outputs": [],
   "source": [
    "dfCleaned = df.drop([26936])\n",
    "dfCleaned = dfCleaned.reset_index()"
   ]
  },
  {
   "cell_type": "code",
   "execution_count": 14,
   "id": "21c6eb4c",
   "metadata": {},
   "outputs": [
    {
     "data": {
      "text/html": [
       "<div>\n",
       "<style scoped>\n",
       "    .dataframe tbody tr th:only-of-type {\n",
       "        vertical-align: middle;\n",
       "    }\n",
       "\n",
       "    .dataframe tbody tr th {\n",
       "        vertical-align: top;\n",
       "    }\n",
       "\n",
       "    .dataframe thead th {\n",
       "        text-align: right;\n",
       "    }\n",
       "</style>\n",
       "<table border=\"1\" class=\"dataframe\">\n",
       "  <thead>\n",
       "    <tr style=\"text-align: right;\">\n",
       "      <th></th>\n",
       "      <th>ID</th>\n",
       "      <th>name</th>\n",
       "      <th>release_date</th>\n",
       "      <th>estimated_owners</th>\n",
       "      <th>peak_ccu</th>\n",
       "      <th>required_age</th>\n",
       "      <th>price</th>\n",
       "      <th>dlc_count</th>\n",
       "      <th>main_description</th>\n",
       "      <th>supported_languages</th>\n",
       "      <th>...</th>\n",
       "      <th>average_playtime_forever</th>\n",
       "      <th>average_playtime_2weeks</th>\n",
       "      <th>median_playtime_forever</th>\n",
       "      <th>packages</th>\n",
       "      <th>developers</th>\n",
       "      <th>publishers</th>\n",
       "      <th>categories</th>\n",
       "      <th>genres</th>\n",
       "      <th>tags</th>\n",
       "      <th>screenshots</th>\n",
       "    </tr>\n",
       "  </thead>\n",
       "  <tbody>\n",
       "  </tbody>\n",
       "</table>\n",
       "<p>0 rows × 38 columns</p>\n",
       "</div>"
      ],
      "text/plain": [
       "Empty DataFrame\n",
       "Columns: [ID, name, release_date, estimated_owners, peak_ccu, required_age, price, dlc_count, main_description, supported_languages, full_audio_languages, reviews, header_image, website, support_url, support_email, windows, mac, linux, metacritic_score, metacriticURL, user_score, positive, negative, score_rank, achievements, recommendations, notes, average_playtime_forever, average_playtime_2weeks, median_playtime_forever, packages, developers, publishers, categories, genres, tags, screenshots]\n",
       "Index: []\n",
       "\n",
       "[0 rows x 38 columns]"
      ]
     },
     "execution_count": 14,
     "metadata": {},
     "output_type": "execute_result"
    }
   ],
   "source": [
    "dfCleaned[\"price\"].max()\n",
    "df[df[\"price\"] == 999.98]"
   ]
  },
  {
   "cell_type": "code",
   "execution_count": 15,
   "id": "e0c715f4",
   "metadata": {},
   "outputs": [
    {
     "data": {
      "text/plain": [
       "<AxesSubplot:xlabel='price', ylabel='metacritic_score'>"
      ]
     },
     "execution_count": 15,
     "metadata": {},
     "output_type": "execute_result"
    },
    {
     "data": {
      "image/png": "[encoded data removed]",
      "text/plain": [
       "<Figure size 640x480 with 1 Axes>"
      ]
     },
     "metadata": {},
     "output_type": "display_data"
    }
   ],
   "source": [
    "sns.scatterplot(data=dfCleaned, x=\"price\", y=\"metacritic_score\")"
   ]
  },
  {
   "cell_type": "code",
   "execution_count": 16,
   "id": "10206a92",
   "metadata": {},
   "outputs": [
    {
     "data": {
      "text/plain": [
       "<AxesSubplot:xlabel='price', ylabel='recommendations'>"
      ]
     },
     "execution_count": 16,
     "metadata": {},
     "output_type": "execute_result"
    },
    {
     "data": {
      "image/png": "[encoded data removed]",
      "text/plain": [
       "<Figure size 640x480 with 1 Axes>"
      ]
     },
     "metadata": {},
     "output_type": "display_data"
    }
   ],
   "source": [
    "sns.scatterplot(data=dfCleaned, x=\"price\", y=\"recommendations\")"
   ]
  },
  {
   "cell_type": "code",
   "execution_count": 17,
   "id": "b97745ef",
   "metadata": {},
   "outputs": [
    {
     "data": {
      "text/plain": [
       "<AxesSubplot:xlabel='recommendations', ylabel='price'>"
      ]
     },
     "execution_count": 17,
     "metadata": {},
     "output_type": "execute_result"
    },
    {
     "data": {
      "image/png": "[encoded data removed]",
      "text/plain": [
       "<Figure size 640x480 with 1 Axes>"
      ]
     },
     "metadata": {},
     "output_type": "display_data"
    }
   ],
   "source": [
    "sns.scatterplot(data=dfCleaned, x=\"recommendations\", y=\"price\")"
   ]
  },
  {
   "cell_type": "markdown",
   "id": "ce0a995a",
   "metadata": {},
   "source": [
    "<span style=\"color: #19cd94\">\n",
    "    <p>The direction of the scatterplot is <p/>\n",
    "    <p>The form of the scatterplot is </p>\n",
    "    <p>The relationship is how much a price affects the amount of recommendations a game recives.</p>\n",
    "    <p>Cheaper / free games seem to have a lot more recommendations than games you have to pay for.</p>\n",
    "</span>"
   ]
  },
  {
   "cell_type": "code",
   "execution_count": 18,
   "id": "f59ba367",
   "metadata": {
    "scrolled": true
   },
   "outputs": [
    {
     "data": {
      "text/html": [
       "<div>\n",
       "<style scoped>\n",
       "    .dataframe tbody tr th:only-of-type {\n",
       "        vertical-align: middle;\n",
       "    }\n",
       "\n",
       "    .dataframe tbody tr th {\n",
       "        vertical-align: top;\n",
       "    }\n",
       "\n",
       "    .dataframe thead th {\n",
       "        text-align: right;\n",
       "    }\n",
       "</style>\n",
       "<table border=\"1\" class=\"dataframe\">\n",
       "  <thead>\n",
       "    <tr style=\"text-align: right;\">\n",
       "      <th></th>\n",
       "      <th>ID</th>\n",
       "      <th>name</th>\n",
       "      <th>release_date</th>\n",
       "      <th>estimated_owners</th>\n",
       "      <th>peak_ccu</th>\n",
       "      <th>required_age</th>\n",
       "      <th>price</th>\n",
       "      <th>dlc_count</th>\n",
       "      <th>main_description</th>\n",
       "      <th>supported_languages</th>\n",
       "      <th>...</th>\n",
       "      <th>average_playtime_forever</th>\n",
       "      <th>average_playtime_2weeks</th>\n",
       "      <th>median_playtime_forever</th>\n",
       "      <th>packages</th>\n",
       "      <th>developers</th>\n",
       "      <th>publishers</th>\n",
       "      <th>categories</th>\n",
       "      <th>genres</th>\n",
       "      <th>tags</th>\n",
       "      <th>screenshots</th>\n",
       "    </tr>\n",
       "  </thead>\n",
       "  <tbody>\n",
       "    <tr>\n",
       "      <th>8885</th>\n",
       "      <td>578080</td>\n",
       "      <td>PUBG: BATTLEGROUNDS</td>\n",
       "      <td>Dec 21, 2017</td>\n",
       "      <td>50000000 - 100000000</td>\n",
       "      <td>275374</td>\n",
       "      <td>0</td>\n",
       "      <td>0.0</td>\n",
       "      <td>0</td>\n",
       "      <td>LAND, LOOT, SURVIVE! Play PUBG: BATTLEGROUNDS ...</td>\n",
       "      <td>['English', 'Korean', 'Simplified Chinese', 'F...</td>\n",
       "      <td>...</td>\n",
       "      <td>21963</td>\n",
       "      <td>790</td>\n",
       "      <td>7134</td>\n",
       "      <td>152</td>\n",
       "      <td>KRAFTON, Inc.</td>\n",
       "      <td>KRAFTON, Inc.</td>\n",
       "      <td>Multi-player,PvP,Online PvP,Stats,Remote Play ...</td>\n",
       "      <td>Action,Adventure,Free to Play,Massively Multip...</td>\n",
       "      <td>Survival,Shooter,Multiplayer,Battle Royale,FPS...</td>\n",
       "      <td>https://cdn.akamai.steamstatic.com/steam/apps/...</td>\n",
       "    </tr>\n",
       "  </tbody>\n",
       "</table>\n",
       "<p>1 rows × 38 columns</p>\n",
       "</div>"
      ],
      "text/plain": [
       "          ID                 name  release_date      estimated_owners  \\\n",
       "8885  578080  PUBG: BATTLEGROUNDS  Dec 21, 2017  50000000 - 100000000   \n",
       "\n",
       "      peak_ccu  required_age  price  dlc_count  \\\n",
       "8885    275374             0    0.0          0   \n",
       "\n",
       "                                       main_description  \\\n",
       "8885  LAND, LOOT, SURVIVE! Play PUBG: BATTLEGROUNDS ...   \n",
       "\n",
       "                                    supported_languages  ...  \\\n",
       "8885  ['English', 'Korean', 'Simplified Chinese', 'F...  ...   \n",
       "\n",
       "     average_playtime_forever average_playtime_2weeks median_playtime_forever  \\\n",
       "8885                    21963                     790                    7134   \n",
       "\n",
       "     packages     developers     publishers  \\\n",
       "8885      152  KRAFTON, Inc.  KRAFTON, Inc.   \n",
       "\n",
       "                                             categories  \\\n",
       "8885  Multi-player,PvP,Online PvP,Stats,Remote Play ...   \n",
       "\n",
       "                                                 genres  \\\n",
       "8885  Action,Adventure,Free to Play,Massively Multip...   \n",
       "\n",
       "                                                   tags  \\\n",
       "8885  Survival,Shooter,Multiplayer,Battle Royale,FPS...   \n",
       "\n",
       "                                            screenshots  \n",
       "8885  https://cdn.akamai.steamstatic.com/steam/apps/...  \n",
       "\n",
       "[1 rows x 38 columns]"
      ]
     },
     "execution_count": 18,
     "metadata": {},
     "output_type": "execute_result"
    }
   ],
   "source": [
    "df[df[\"recommendations\"] == df[\"recommendations\"].max()]"
   ]
  },
  {
   "cell_type": "code",
   "execution_count": 19,
   "id": "0d31cd12",
   "metadata": {},
   "outputs": [
    {
     "data": {
      "text/plain": [
       "<AxesSubplot:xlabel='recommendations', ylabel='price'>"
      ]
     },
     "execution_count": 19,
     "metadata": {},
     "output_type": "execute_result"
    },
    {
     "data": {
      "image/png": "[encoded data removed]",
      "text/plain": [
       "<Figure size 640x480 with 1 Axes>"
      ]
     },
     "metadata": {},
     "output_type": "display_data"
    }
   ],
   "source": [
    "sns.scatterplot(data=dfCleaned, x=\"recommendations\", y=\"price\")"
   ]
  },
  {
   "cell_type": "code",
   "execution_count": null,
   "id": "839faab4",
   "metadata": {},
   "outputs": [],
   "source": []
  }
 ],
 "metadata": {
  "kernelspec": {
   "display_name": "Python 3 (ipykernel)",
   "language": "python",
   "name": "python3"
  },
  "language_info": {
   "codemirror_mode": {
    "name": "ipython",
    "version": 3
   },
   "file_extension": ".py",
   "mimetype": "text/x-python",
   "name": "python",
   "nbconvert_exporter": "python",
   "pygments_lexer": "ipython3",
   "version": "3.9.13"
  }
 },
 "nbformat": 4,
 "nbformat_minor": 5
}
