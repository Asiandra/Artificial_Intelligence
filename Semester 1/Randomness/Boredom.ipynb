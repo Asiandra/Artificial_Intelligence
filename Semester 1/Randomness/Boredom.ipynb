{
 "cells": [
  {
   "cell_type": "code",
   "execution_count": 1,
   "id": "6e11c65f",
   "metadata": {},
   "outputs": [],
   "source": [
    "import random"
   ]
  },
  {
   "cell_type": "code",
   "execution_count": 2,
   "id": "4f9c0303",
   "metadata": {},
   "outputs": [
    {
     "name": "stdout",
     "output_type": "stream",
     "text": [
      "Welcome to Russian Roulette.\n",
      "There are 6 chambers and 1 bullet.\n",
      "Players will take turns pulling the trigger.\n",
      "Press Enter to pull the trigger...\n",
      "You've landed on chamber 2.\n",
      "You pull the trigger. The gun clicks. You've lived for another round.\n",
      "Press Enter to pull the trigger...\n",
      "You've landed on chamber 4.\n",
      "You pull the trigger. The gun clicks. You've lived for another round.\n",
      "Press Enter to pull the trigger...\n",
      "You've landed on chamber 1.\n",
      "You pull the trigger. The gun clicks. You've lived for another round.\n",
      "Press Enter to pull the trigger...\n",
      "You've landed on chamber 6.\n",
      "You pull the trigger. The bullet shoots through your head and your body falls to the floor.\n",
      "Game Over.\n"
     ]
    }
   ],
   "source": [
    "def russian_roulette():\n",
    "    chambers = 6\n",
    "    bullet_position = random.randint(1, chambers)\n",
    "    \n",
    "    print(\"Welcome to Russian Roulette.\")\n",
    "    print(\"There are 6 chambers and 1 bullet.\")\n",
    "    print(\"Players will take turns pulling the trigger.\")\n",
    "    \n",
    "    while True:\n",
    "        input(\"Press Enter to pull the trigger...\")\n",
    "        \n",
    "        current_chamber = random.randint(1, chambers)\n",
    "        print(f\"You've landed on chamber {current_chamber}.\")\n",
    "        \n",
    "        if current_chamber == bullet_position:\n",
    "            print(\"You pull the trigger. The bullet shoots through your head and your body falls to the floor.\")\n",
    "            break\n",
    "        else:\n",
    "            print(\"You pull the trigger. The gun clicks. You've lived for another round.\")\n",
    "            \n",
    "    print(\"Game Over.\")\n",
    "\n",
    "russian_roulette()"
   ]
  },
  {
   "cell_type": "code",
   "execution_count": null,
   "id": "ee7d257c",
   "metadata": {},
   "outputs": [],
   "source": []
  }
 ],
 "metadata": {
  "kernelspec": {
   "display_name": "Python 3 (ipykernel)",
   "language": "python",
   "name": "python3"
  },
  "language_info": {
   "codemirror_mode": {
    "name": "ipython",
    "version": 3
   },
   "file_extension": ".py",
   "mimetype": "text/x-python",
   "name": "python",
   "nbconvert_exporter": "python",
   "pygments_lexer": "ipython3",
   "version": "3.9.13"
  }
 },
 "nbformat": 4,
 "nbformat_minor": 5
}
