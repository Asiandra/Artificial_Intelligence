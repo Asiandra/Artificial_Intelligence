{
 "cells": [
  {
   "cell_type": "code",
   "execution_count": 3,
   "id": "41c19200",
   "metadata": {},
   "outputs": [],
   "source": [
    "import random"
   ]
  },
  {
   "cell_type": "markdown",
   "id": "162f1f0d-9232-46a3-a428-5d360cd50017",
   "metadata": {},
   "source": [
    "# Randomized Player Order"
   ]
  },
  {
   "cell_type": "code",
   "execution_count": 11,
   "id": "f0b40932",
   "metadata": {},
   "outputs": [
    {
     "name": "stdout",
     "output_type": "stream",
     "text": [
      "Welcome to Russian Roulette.\n",
      "There are 7 chambers and 1 bullet.\n",
      "\n"
     ]
    },
    {
     "name": "stdin",
     "output_type": "stream",
     "text": [
      "Enter the number of players:  8\n",
      "Enter the name of player 1:  Kohane\n",
      "Enter the name of player 2:  An\n",
      "Enter the name of player 3:  Akito\n",
      "Enter the name of player 4:  Touya\n",
      "Enter the name of player 5:  Tsukasa\n",
      "Enter the name of player 6:  Emu\n",
      "Enter the name of player 7:  Nene\n",
      "Enter the name of player 8:  Rui\n",
      "\n",
      "Nene has the gun. Press enter to continue. \n"
     ]
    },
    {
     "name": "stdout",
     "output_type": "stream",
     "text": [
      "The chamber is spun. It lands on chamber 7.\n",
      "Nene puts the gun to their head.\n",
      "Nene pulls the trigger. The bullet shoots through their head and their body falls to the floor.\n",
      "7 players remain.\n",
      "\n",
      "Next round begins...\n",
      "\n"
     ]
    },
    {
     "name": "stdin",
     "output_type": "stream",
     "text": [
      "\n",
      "Touya has the gun. Press enter to continue. \n"
     ]
    },
    {
     "name": "stdout",
     "output_type": "stream",
     "text": [
      "The chamber is spun. It lands on chamber 6.\n",
      "Touya puts the gun to their head.\n",
      "Touya pulls the trigger. The gun clicks. They've lived for another round.\n"
     ]
    },
    {
     "name": "stdin",
     "output_type": "stream",
     "text": [
      "\n",
      "Emu has the gun. Press enter to continue. \n"
     ]
    },
    {
     "name": "stdout",
     "output_type": "stream",
     "text": [
      "The chamber is spun. It lands on chamber 1.\n",
      "Emu puts the gun to their head.\n",
      "Emu pulls the trigger. The gun clicks. They've lived for another round.\n"
     ]
    },
    {
     "name": "stdin",
     "output_type": "stream",
     "text": [
      "\n",
      "Kohane has the gun. Press enter to continue. \n"
     ]
    },
    {
     "name": "stdout",
     "output_type": "stream",
     "text": [
      "The chamber is spun. It lands on chamber 6.\n",
      "Kohane puts the gun to their head.\n",
      "Kohane pulls the trigger. The gun clicks. They've lived for another round.\n"
     ]
    },
    {
     "name": "stdin",
     "output_type": "stream",
     "text": [
      "\n",
      "An has the gun. Press enter to continue. \n"
     ]
    },
    {
     "name": "stdout",
     "output_type": "stream",
     "text": [
      "The chamber is spun. It lands on chamber 4.\n",
      "An puts the gun to their head.\n",
      "An pulls the trigger. The gun clicks. They've lived for another round.\n"
     ]
    },
    {
     "name": "stdin",
     "output_type": "stream",
     "text": [
      "\n",
      "Rui has the gun. Press enter to continue. \n"
     ]
    },
    {
     "name": "stdout",
     "output_type": "stream",
     "text": [
      "The chamber is spun. It lands on chamber 7.\n",
      "Rui puts the gun to their head.\n",
      "Rui pulls the trigger. The bullet shoots through their head and their body falls to the floor.\n",
      "6 players remain.\n",
      "\n",
      "Next round begins...\n",
      "\n"
     ]
    },
    {
     "name": "stdin",
     "output_type": "stream",
     "text": [
      "\n",
      "Emu has the gun. Press enter to continue. \n"
     ]
    },
    {
     "name": "stdout",
     "output_type": "stream",
     "text": [
      "The chamber is spun. It lands on chamber 7.\n",
      "Emu puts the gun to their head.\n",
      "Emu pulls the trigger. The bullet shoots through their head and their body falls to the floor.\n",
      "5 players remain.\n",
      "\n",
      "Next round begins...\n",
      "\n"
     ]
    },
    {
     "name": "stdin",
     "output_type": "stream",
     "text": [
      "\n",
      "An has the gun. Press enter to continue. \n"
     ]
    },
    {
     "name": "stdout",
     "output_type": "stream",
     "text": [
      "The chamber is spun. It lands on chamber 7.\n",
      "An puts the gun to their head.\n",
      "An pulls the trigger. The bullet shoots through their head and their body falls to the floor.\n",
      "4 players remain.\n",
      "\n",
      "Next round begins...\n",
      "\n"
     ]
    },
    {
     "name": "stdin",
     "output_type": "stream",
     "text": [
      "\n",
      "Kohane has the gun. Press enter to continue. \n"
     ]
    },
    {
     "name": "stdout",
     "output_type": "stream",
     "text": [
      "The chamber is spun. It lands on chamber 5.\n",
      "Kohane puts the gun to their head.\n",
      "Kohane pulls the trigger. The gun clicks. They've lived for another round.\n"
     ]
    },
    {
     "name": "stdin",
     "output_type": "stream",
     "text": [
      "\n",
      "Akito has the gun. Press enter to continue. \n"
     ]
    },
    {
     "name": "stdout",
     "output_type": "stream",
     "text": [
      "The chamber is spun. It lands on chamber 4.\n",
      "Akito puts the gun to their head.\n",
      "Akito pulls the trigger. The gun clicks. They've lived for another round.\n"
     ]
    },
    {
     "name": "stdin",
     "output_type": "stream",
     "text": [
      "\n",
      "Tsukasa has the gun. Press enter to continue. \n"
     ]
    },
    {
     "name": "stdout",
     "output_type": "stream",
     "text": [
      "The chamber is spun. It lands on chamber 3.\n",
      "Tsukasa puts the gun to their head.\n",
      "Tsukasa pulls the trigger. The gun clicks. They've lived for another round.\n"
     ]
    },
    {
     "name": "stdin",
     "output_type": "stream",
     "text": [
      "\n",
      "Touya has the gun. Press enter to continue. \n"
     ]
    },
    {
     "name": "stdout",
     "output_type": "stream",
     "text": [
      "The chamber is spun. It lands on chamber 7.\n",
      "Touya puts the gun to their head.\n",
      "Touya pulls the trigger. The bullet shoots through their head and their body falls to the floor.\n",
      "3 players remain.\n",
      "\n",
      "Next round begins...\n",
      "\n"
     ]
    },
    {
     "name": "stdin",
     "output_type": "stream",
     "text": [
      "\n",
      "Tsukasa has the gun. Press enter to continue. \n"
     ]
    },
    {
     "name": "stdout",
     "output_type": "stream",
     "text": [
      "The chamber is spun. It lands on chamber 3.\n",
      "Tsukasa puts the gun to their head.\n",
      "Tsukasa pulls the trigger. The gun clicks. They've lived for another round.\n"
     ]
    },
    {
     "name": "stdin",
     "output_type": "stream",
     "text": [
      "\n",
      "Kohane has the gun. Press enter to continue. \n"
     ]
    },
    {
     "name": "stdout",
     "output_type": "stream",
     "text": [
      "The chamber is spun. It lands on chamber 6.\n",
      "Kohane puts the gun to their head.\n",
      "Kohane pulls the trigger. The gun clicks. They've lived for another round.\n"
     ]
    },
    {
     "name": "stdin",
     "output_type": "stream",
     "text": [
      "\n",
      "Akito has the gun. Press enter to continue. \n"
     ]
    },
    {
     "name": "stdout",
     "output_type": "stream",
     "text": [
      "The chamber is spun. It lands on chamber 7.\n",
      "Akito puts the gun to their head.\n",
      "Akito pulls the trigger. The bullet shoots through their head and their body falls to the floor.\n",
      "2 players remain.\n",
      "\n",
      "Next round begins...\n",
      "\n"
     ]
    },
    {
     "name": "stdin",
     "output_type": "stream",
     "text": [
      "\n",
      "Kohane has the gun. Press enter to continue. \n"
     ]
    },
    {
     "name": "stdout",
     "output_type": "stream",
     "text": [
      "The chamber is spun. It lands on chamber 7.\n",
      "Kohane puts the gun to their head.\n",
      "Kohane pulls the trigger. The bullet shoots through their head and their body falls to the floor.\n",
      "1 players remain.\n",
      "\n",
      "Next round begins...\n",
      "\n"
     ]
    },
    {
     "name": "stdin",
     "output_type": "stream",
     "text": [
      "\n",
      "Tsukasa has the gun. Press enter to continue. \n"
     ]
    },
    {
     "name": "stdout",
     "output_type": "stream",
     "text": [
      "The chamber is spun. It lands on chamber 7.\n",
      "Tsukasa puts the gun to their head.\n",
      "Tsukasa pulls the trigger. The bullet shoots through their head and their body falls to the floor.\n",
      "0 players remain.\n",
      "\n",
      "All players have died. Game Over.\n"
     ]
    }
   ],
   "source": [
    "def russian_roulette():\n",
    "    chambers = 7\n",
    "    bullet_position = random.randint(1, chambers)\n",
    "\n",
    "    print(\"Welcome to Russian Roulette.\")\n",
    "    print(\"There are 7 chambers and 1 bullet.\\n\")\n",
    "\n",
    "    num_players = int(input(\"Enter the number of players: \"))\n",
    "    players = []\n",
    "\n",
    "    for i in range(num_players):\n",
    "        name = input(f\"Enter the name of player {i + 1}: \")\n",
    "        players.append(name)\n",
    "\n",
    "    while len(players) > 0:\n",
    "        random.shuffle(players)\n",
    "        \n",
    "        for current_player in players[:]:\n",
    "            input(f\"\\n{current_player} has the gun. Press enter to continue.\")\n",
    "\n",
    "            current_chamber = random.randint(1, chambers)\n",
    "            print(f\"The chamber is spun. It lands on chamber {current_chamber}.\")\n",
    "\n",
    "            print(f\"{current_player} puts the gun to their head.\")\n",
    "\n",
    "            if current_chamber == bullet_position:\n",
    "                print(f\"{current_player} pulls the trigger. The bullet shoots through their head and their body falls to the floor.\")\n",
    "                players.remove(current_player)\n",
    "                break \n",
    "            else:\n",
    "                print(f\"{current_player} pulls the trigger. The gun clicks. They've lived for another round.\")\n",
    "\n",
    "        print(f\"{len(players)} players remain.\\n\")\n",
    "\n",
    "        if len(players) == 0:\n",
    "            print(\"All players have died. Game Over.\")\n",
    "        else:\n",
    "            print(\"Next round begins...\\n\")\n",
    "\n",
    "russian_roulette()"
   ]
  },
  {
   "cell_type": "markdown",
   "id": "897d1d68-732a-49c8-8473-ac9c586cebb1",
   "metadata": {},
   "source": [
    "# Chronilogical Player Order"
   ]
  },
  {
   "cell_type": "code",
   "execution_count": 15,
   "id": "bb40e253-527e-46d4-8c51-c450c58304db",
   "metadata": {},
   "outputs": [
    {
     "name": "stdout",
     "output_type": "stream",
     "text": [
      "Welcome to Russian Roulette.\n",
      "There are 7 chambers and 1 bullet.\n",
      "\n"
     ]
    },
    {
     "name": "stdin",
     "output_type": "stream",
     "text": [
      "Enter the number of players:  4\n",
      "Enter the name of player 1:  Nene\n",
      "Enter the name of player 2:  Emu\n",
      "Enter the name of player 3:  Rui\n",
      "Enter the name of player 4:  Tsukasa\n",
      "\n",
      "Nene has the gun. Press enter to continue. \n"
     ]
    },
    {
     "name": "stdout",
     "output_type": "stream",
     "text": [
      "The chamber is spun. It lands on chamber 5.\n",
      "Nene puts the gun to their head.\n",
      "Nene pulls the trigger. The gun clicks. They've lived for another round.\n"
     ]
    },
    {
     "name": "stdin",
     "output_type": "stream",
     "text": [
      "\n",
      "Emu has the gun. Press enter to continue. \n"
     ]
    },
    {
     "name": "stdout",
     "output_type": "stream",
     "text": [
      "The chamber is spun. It lands on chamber 7.\n",
      "Emu puts the gun to their head.\n",
      "Emu pulls the trigger. The gun clicks. They've lived for another round.\n"
     ]
    },
    {
     "name": "stdin",
     "output_type": "stream",
     "text": [
      "\n",
      "Rui has the gun. Press enter to continue. \n"
     ]
    },
    {
     "name": "stdout",
     "output_type": "stream",
     "text": [
      "The chamber is spun. It lands on chamber 4.\n",
      "Rui puts the gun to their head.\n",
      "Rui pulls the trigger. The gun clicks. They've lived for another round.\n"
     ]
    },
    {
     "name": "stdin",
     "output_type": "stream",
     "text": [
      "\n",
      "Tsukasa has the gun. Press enter to continue. \n"
     ]
    },
    {
     "name": "stdout",
     "output_type": "stream",
     "text": [
      "The chamber is spun. It lands on chamber 6.\n",
      "Tsukasa puts the gun to their head.\n",
      "Tsukasa pulls the trigger. The gun clicks. They've lived for another round.\n",
      "4 players remain.\n",
      "\n",
      "Next round begins...\n",
      "\n"
     ]
    },
    {
     "name": "stdin",
     "output_type": "stream",
     "text": [
      "\n",
      "Nene has the gun. Press enter to continue. \n"
     ]
    },
    {
     "name": "stdout",
     "output_type": "stream",
     "text": [
      "The chamber is spun. It lands on chamber 4.\n",
      "Nene puts the gun to their head.\n",
      "Nene pulls the trigger. The gun clicks. They've lived for another round.\n"
     ]
    },
    {
     "name": "stdin",
     "output_type": "stream",
     "text": [
      "\n",
      "Emu has the gun. Press enter to continue. \n"
     ]
    },
    {
     "name": "stdout",
     "output_type": "stream",
     "text": [
      "The chamber is spun. It lands on chamber 5.\n",
      "Emu puts the gun to their head.\n",
      "Emu pulls the trigger. The gun clicks. They've lived for another round.\n"
     ]
    },
    {
     "name": "stdin",
     "output_type": "stream",
     "text": [
      "\n",
      "Rui has the gun. Press enter to continue. \n"
     ]
    },
    {
     "name": "stdout",
     "output_type": "stream",
     "text": [
      "The chamber is spun. It lands on chamber 4.\n",
      "Rui puts the gun to their head.\n",
      "Rui pulls the trigger. The gun clicks. They've lived for another round.\n"
     ]
    },
    {
     "name": "stdin",
     "output_type": "stream",
     "text": [
      "\n",
      "Tsukasa has the gun. Press enter to continue. \n"
     ]
    },
    {
     "name": "stdout",
     "output_type": "stream",
     "text": [
      "The chamber is spun. It lands on chamber 3.\n",
      "Tsukasa puts the gun to their head.\n",
      "Tsukasa pulls the trigger. The bullet shoots through their head and their body falls to the floor.\n",
      "3 players remain.\n",
      "\n",
      "Next round begins...\n",
      "\n"
     ]
    },
    {
     "name": "stdin",
     "output_type": "stream",
     "text": [
      "\n",
      "Nene has the gun. Press enter to continue. \n"
     ]
    },
    {
     "name": "stdout",
     "output_type": "stream",
     "text": [
      "The chamber is spun. It lands on chamber 7.\n",
      "Nene puts the gun to their head.\n",
      "Nene pulls the trigger. The gun clicks. They've lived for another round.\n"
     ]
    },
    {
     "name": "stdin",
     "output_type": "stream",
     "text": [
      "\n",
      "Emu has the gun. Press enter to continue. \n"
     ]
    },
    {
     "name": "stdout",
     "output_type": "stream",
     "text": [
      "The chamber is spun. It lands on chamber 6.\n",
      "Emu puts the gun to their head.\n",
      "Emu pulls the trigger. The gun clicks. They've lived for another round.\n"
     ]
    },
    {
     "name": "stdin",
     "output_type": "stream",
     "text": [
      "\n",
      "Rui has the gun. Press enter to continue. \n"
     ]
    },
    {
     "name": "stdout",
     "output_type": "stream",
     "text": [
      "The chamber is spun. It lands on chamber 3.\n",
      "Rui puts the gun to their head.\n",
      "Rui pulls the trigger. The bullet shoots through their head and their body falls to the floor.\n",
      "2 players remain.\n",
      "\n",
      "Next round begins...\n",
      "\n"
     ]
    },
    {
     "name": "stdin",
     "output_type": "stream",
     "text": [
      "\n",
      "Nene has the gun. Press enter to continue. \n"
     ]
    },
    {
     "name": "stdout",
     "output_type": "stream",
     "text": [
      "The chamber is spun. It lands on chamber 7.\n",
      "Nene puts the gun to their head.\n",
      "Nene pulls the trigger. The gun clicks. They've lived for another round.\n"
     ]
    },
    {
     "name": "stdin",
     "output_type": "stream",
     "text": [
      "\n",
      "Emu has the gun. Press enter to continue. \n"
     ]
    },
    {
     "name": "stdout",
     "output_type": "stream",
     "text": [
      "The chamber is spun. It lands on chamber 6.\n",
      "Emu puts the gun to their head.\n",
      "Emu pulls the trigger. The gun clicks. They've lived for another round.\n",
      "2 players remain.\n",
      "\n",
      "Next round begins...\n",
      "\n"
     ]
    },
    {
     "name": "stdin",
     "output_type": "stream",
     "text": [
      "\n",
      "Nene has the gun. Press enter to continue. \n"
     ]
    },
    {
     "name": "stdout",
     "output_type": "stream",
     "text": [
      "The chamber is spun. It lands on chamber 7.\n",
      "Nene puts the gun to their head.\n",
      "Nene pulls the trigger. The gun clicks. They've lived for another round.\n"
     ]
    },
    {
     "name": "stdin",
     "output_type": "stream",
     "text": [
      "\n",
      "Emu has the gun. Press enter to continue. \n"
     ]
    },
    {
     "name": "stdout",
     "output_type": "stream",
     "text": [
      "The chamber is spun. It lands on chamber 1.\n",
      "Emu puts the gun to their head.\n",
      "Emu pulls the trigger. The gun clicks. They've lived for another round.\n",
      "2 players remain.\n",
      "\n",
      "Next round begins...\n",
      "\n"
     ]
    },
    {
     "name": "stdin",
     "output_type": "stream",
     "text": [
      "\n",
      "Nene has the gun. Press enter to continue. \n"
     ]
    },
    {
     "name": "stdout",
     "output_type": "stream",
     "text": [
      "The chamber is spun. It lands on chamber 7.\n",
      "Nene puts the gun to their head.\n",
      "Nene pulls the trigger. The gun clicks. They've lived for another round.\n"
     ]
    },
    {
     "name": "stdin",
     "output_type": "stream",
     "text": [
      "\n",
      "Emu has the gun. Press enter to continue. \n"
     ]
    },
    {
     "name": "stdout",
     "output_type": "stream",
     "text": [
      "The chamber is spun. It lands on chamber 5.\n",
      "Emu puts the gun to their head.\n",
      "Emu pulls the trigger. The gun clicks. They've lived for another round.\n",
      "2 players remain.\n",
      "\n",
      "Next round begins...\n",
      "\n"
     ]
    },
    {
     "name": "stdin",
     "output_type": "stream",
     "text": [
      "\n",
      "Nene has the gun. Press enter to continue. \n"
     ]
    },
    {
     "name": "stdout",
     "output_type": "stream",
     "text": [
      "The chamber is spun. It lands on chamber 7.\n",
      "Nene puts the gun to their head.\n",
      "Nene pulls the trigger. The gun clicks. They've lived for another round.\n"
     ]
    },
    {
     "name": "stdin",
     "output_type": "stream",
     "text": [
      "\n",
      "Emu has the gun. Press enter to continue. \n"
     ]
    },
    {
     "name": "stdout",
     "output_type": "stream",
     "text": [
      "The chamber is spun. It lands on chamber 3.\n",
      "Emu puts the gun to their head.\n",
      "Emu pulls the trigger. The bullet shoots through their head and their body falls to the floor.\n",
      "1 players remain.\n",
      "\n",
      "Next round begins...\n",
      "\n"
     ]
    },
    {
     "name": "stdin",
     "output_type": "stream",
     "text": [
      "\n",
      "Nene has the gun. Press enter to continue. \n"
     ]
    },
    {
     "name": "stdout",
     "output_type": "stream",
     "text": [
      "The chamber is spun. It lands on chamber 6.\n",
      "Nene puts the gun to their head.\n",
      "Nene pulls the trigger. The gun clicks. They've lived for another round.\n",
      "1 players remain.\n",
      "\n",
      "Next round begins...\n",
      "\n"
     ]
    },
    {
     "name": "stdin",
     "output_type": "stream",
     "text": [
      "\n",
      "Nene has the gun. Press enter to continue. \n"
     ]
    },
    {
     "name": "stdout",
     "output_type": "stream",
     "text": [
      "The chamber is spun. It lands on chamber 4.\n",
      "Nene puts the gun to their head.\n",
      "Nene pulls the trigger. The gun clicks. They've lived for another round.\n",
      "1 players remain.\n",
      "\n",
      "Next round begins...\n",
      "\n"
     ]
    },
    {
     "name": "stdin",
     "output_type": "stream",
     "text": [
      "\n",
      "Nene has the gun. Press enter to continue. \n"
     ]
    },
    {
     "name": "stdout",
     "output_type": "stream",
     "text": [
      "The chamber is spun. It lands on chamber 6.\n",
      "Nene puts the gun to their head.\n",
      "Nene pulls the trigger. The gun clicks. They've lived for another round.\n",
      "1 players remain.\n",
      "\n",
      "Next round begins...\n",
      "\n"
     ]
    },
    {
     "name": "stdin",
     "output_type": "stream",
     "text": [
      "\n",
      "Nene has the gun. Press enter to continue. \n"
     ]
    },
    {
     "name": "stdout",
     "output_type": "stream",
     "text": [
      "The chamber is spun. It lands on chamber 3.\n",
      "Nene puts the gun to their head.\n",
      "Nene pulls the trigger. The bullet shoots through their head and their body falls to the floor.\n",
      "0 players remain.\n",
      "\n",
      "All players have died. Game Over.\n"
     ]
    }
   ],
   "source": [
    "def russian_roulette():\n",
    "    chambers = 7\n",
    "    bullet_position = random.randint(1, chambers)\n",
    "\n",
    "    print(\"Welcome to Russian Roulette.\")\n",
    "    print(\"There are 7 chambers and 1 bullet.\\n\")\n",
    "\n",
    "    num_players = int(input(\"Enter the number of players: \"))\n",
    "    players = []\n",
    "\n",
    "    for i in range(num_players):\n",
    "        name = input(f\"Enter the name of player {i + 1}: \")\n",
    "        players.append(name)\n",
    "\n",
    "    while len(players) > 0:\n",
    "        \n",
    "        for current_player in players[:]:\n",
    "            input(f\"\\n{current_player} has the gun. Press enter to continue.\")\n",
    "\n",
    "            current_chamber = random.randint(1, chambers)\n",
    "            print(f\"The chamber is spun. It lands on chamber {current_chamber}.\")\n",
    "\n",
    "            print(f\"{current_player} puts the gun to their head.\")\n",
    "\n",
    "            if current_chamber == bullet_position:\n",
    "                print(f\"{current_player} pulls the trigger. The bullet shoots through their head and their body falls to the floor.\")\n",
    "                players.remove(current_player)\n",
    "                break \n",
    "            else:\n",
    "                print(f\"{current_player} pulls the trigger. The gun clicks. They've lived for another round.\")\n",
    "\n",
    "        print(f\"{len(players)} players remain.\\n\")\n",
    "\n",
    "        if len(players) == 0:\n",
    "            print(\"All players have died. Game Over.\")\n",
    "        else:\n",
    "            print(\"Next round begins...\\n\")\n",
    "\n",
    "russian_roulette()"
   ]
  },
  {
   "cell_type": "code",
   "execution_count": null,
   "id": "b801e535-24f3-4a89-a3f1-249d3de1ed55",
   "metadata": {},
   "outputs": [],
   "source": []
  }
 ],
 "metadata": {
  "kernelspec": {
   "display_name": "Python 3 (ipykernel)",
   "language": "python",
   "name": "python3"
  },
  "language_info": {
   "codemirror_mode": {
    "name": "ipython",
    "version": 3
   },
   "file_extension": ".py",
   "mimetype": "text/x-python",
   "name": "python",
   "nbconvert_exporter": "python",
   "pygments_lexer": "ipython3",
   "version": "3.12.4"
  }
 },
 "nbformat": 4,
 "nbformat_minor": 5
}
