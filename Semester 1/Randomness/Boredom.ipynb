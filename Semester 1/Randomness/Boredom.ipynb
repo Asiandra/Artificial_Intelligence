{
 "cells": [
  {
   "cell_type": "markdown",
   "id": "162f1f0d-9232-46a3-a428-5d360cd50017",
   "metadata": {},
   "source": [
    "# RR Randomized Player Order"
   ]
  },
  {
   "cell_type": "code",
   "execution_count": 5,
   "id": "f0b40932",
   "metadata": {},
   "outputs": [
    {
     "name": "stdout",
     "output_type": "stream",
     "text": [
      "Welcome to Russian Roulette.\n",
      "There are 7 chambers and 1 bullet.\n",
      "\n"
     ]
    },
    {
     "name": "stdin",
     "output_type": "stream",
     "text": [
      "Enter the number of players:  8\n",
      "Enter the name of player 1:  Touya\n",
      "Enter the name of player 2:  Mafuyu\n",
      "Enter the name of player 3:  Shizuku\n",
      "Enter the name of player 4:  Tsukasa\n",
      "Enter the name of player 5:  Mizuki\n",
      "Enter the name of player 6:  Airi\n",
      "Enter the name of player 7:  Honami\n",
      "Enter the name of player 8:  Kohane\n",
      "\n",
      "Touya has the gun. Press enter to continue. \n"
     ]
    },
    {
     "name": "stdout",
     "output_type": "stream",
     "text": [
      "Touya puts the gun to their head.\n",
      "Touya pulls the trigger. The gun clicks. They've lived for another round.\n"
     ]
    },
    {
     "name": "stdin",
     "output_type": "stream",
     "text": [
      "\n",
      "Shizuku has the gun. Press enter to continue. \n"
     ]
    },
    {
     "name": "stdout",
     "output_type": "stream",
     "text": [
      "Shizuku puts the gun to their head.\n",
      "Shizuku pulls the trigger. The gun clicks. They've lived for another round.\n"
     ]
    },
    {
     "name": "stdin",
     "output_type": "stream",
     "text": [
      "\n",
      "Mafuyu has the gun. Press enter to continue. \n"
     ]
    },
    {
     "name": "stdout",
     "output_type": "stream",
     "text": [
      "Mafuyu puts the gun to their head.\n",
      "Mafuyu pulls the trigger. The bullet shoots through their head and their body falls to the floor.\n",
      "7 players remain.\n",
      "\n",
      "Next round begins...\n",
      "\n"
     ]
    },
    {
     "name": "stdin",
     "output_type": "stream",
     "text": [
      "\n",
      "Airi has the gun. Press enter to continue. \n"
     ]
    },
    {
     "name": "stdout",
     "output_type": "stream",
     "text": [
      "Airi puts the gun to their head.\n",
      "Airi pulls the trigger. The gun clicks. They've lived for another round.\n"
     ]
    },
    {
     "name": "stdin",
     "output_type": "stream",
     "text": [
      "\n",
      "Honami has the gun. Press enter to continue. \n"
     ]
    },
    {
     "name": "stdout",
     "output_type": "stream",
     "text": [
      "Honami puts the gun to their head.\n",
      "Honami pulls the trigger. The gun clicks. They've lived for another round.\n"
     ]
    },
    {
     "name": "stdin",
     "output_type": "stream",
     "text": [
      "\n",
      "Tsukasa has the gun. Press enter to continue. \n"
     ]
    },
    {
     "name": "stdout",
     "output_type": "stream",
     "text": [
      "Tsukasa puts the gun to their head.\n",
      "Tsukasa pulls the trigger. The gun clicks. They've lived for another round.\n"
     ]
    },
    {
     "name": "stdin",
     "output_type": "stream",
     "text": [
      "\n",
      "Kohane has the gun. Press enter to continue. \n"
     ]
    },
    {
     "name": "stdout",
     "output_type": "stream",
     "text": [
      "Kohane puts the gun to their head.\n",
      "Kohane pulls the trigger. The bullet shoots through their head and their body falls to the floor.\n",
      "6 players remain.\n",
      "\n",
      "Next round begins...\n",
      "\n"
     ]
    },
    {
     "name": "stdin",
     "output_type": "stream",
     "text": [
      "\n",
      "Mizuki has the gun. Press enter to continue. \n"
     ]
    },
    {
     "name": "stdout",
     "output_type": "stream",
     "text": [
      "Mizuki puts the gun to their head.\n",
      "Mizuki pulls the trigger. The gun clicks. They've lived for another round.\n"
     ]
    },
    {
     "name": "stdin",
     "output_type": "stream",
     "text": [
      "\n",
      "Shizuku has the gun. Press enter to continue. \n"
     ]
    },
    {
     "name": "stdout",
     "output_type": "stream",
     "text": [
      "Shizuku puts the gun to their head.\n",
      "Shizuku pulls the trigger. The gun clicks. They've lived for another round.\n"
     ]
    },
    {
     "name": "stdin",
     "output_type": "stream",
     "text": [
      "\n",
      "Tsukasa has the gun. Press enter to continue. \n"
     ]
    },
    {
     "name": "stdout",
     "output_type": "stream",
     "text": [
      "Tsukasa puts the gun to their head.\n",
      "Tsukasa pulls the trigger. The gun clicks. They've lived for another round.\n"
     ]
    },
    {
     "name": "stdin",
     "output_type": "stream",
     "text": [
      "\n",
      "Airi has the gun. Press enter to continue. \n"
     ]
    },
    {
     "name": "stdout",
     "output_type": "stream",
     "text": [
      "Airi puts the gun to their head.\n",
      "Airi pulls the trigger. The gun clicks. They've lived for another round.\n"
     ]
    },
    {
     "name": "stdin",
     "output_type": "stream",
     "text": [
      "\n",
      "Touya has the gun. Press enter to continue. \n"
     ]
    },
    {
     "name": "stdout",
     "output_type": "stream",
     "text": [
      "Touya puts the gun to their head.\n",
      "Touya pulls the trigger. The gun clicks. They've lived for another round.\n"
     ]
    },
    {
     "name": "stdin",
     "output_type": "stream",
     "text": [
      "\n",
      "Honami has the gun. Press enter to continue. \n"
     ]
    },
    {
     "name": "stdout",
     "output_type": "stream",
     "text": [
      "Honami puts the gun to their head.\n",
      "Honami pulls the trigger. The bullet shoots through their head and their body falls to the floor.\n",
      "5 players remain.\n",
      "\n",
      "Next round begins...\n",
      "\n"
     ]
    },
    {
     "name": "stdin",
     "output_type": "stream",
     "text": [
      "\n",
      "Tsukasa has the gun. Press enter to continue. \n"
     ]
    },
    {
     "name": "stdout",
     "output_type": "stream",
     "text": [
      "Tsukasa puts the gun to their head.\n",
      "Tsukasa pulls the trigger. The gun clicks. They've lived for another round.\n"
     ]
    },
    {
     "name": "stdin",
     "output_type": "stream",
     "text": [
      "\n",
      "Touya has the gun. Press enter to continue. \n"
     ]
    },
    {
     "name": "stdout",
     "output_type": "stream",
     "text": [
      "Touya puts the gun to their head.\n",
      "Touya pulls the trigger. The gun clicks. They've lived for another round.\n"
     ]
    },
    {
     "name": "stdin",
     "output_type": "stream",
     "text": [
      "\n",
      "Mizuki has the gun. Press enter to continue. \n"
     ]
    },
    {
     "name": "stdout",
     "output_type": "stream",
     "text": [
      "Mizuki puts the gun to their head.\n",
      "Mizuki pulls the trigger. The gun clicks. They've lived for another round.\n"
     ]
    },
    {
     "name": "stdin",
     "output_type": "stream",
     "text": [
      "\n",
      "Shizuku has the gun. Press enter to continue. \n"
     ]
    },
    {
     "name": "stdout",
     "output_type": "stream",
     "text": [
      "Shizuku puts the gun to their head.\n",
      "Shizuku pulls the trigger. The gun clicks. They've lived for another round.\n"
     ]
    },
    {
     "name": "stdin",
     "output_type": "stream",
     "text": [
      "\n",
      "Airi has the gun. Press enter to continue. \n"
     ]
    },
    {
     "name": "stdout",
     "output_type": "stream",
     "text": [
      "Airi puts the gun to their head.\n",
      "Airi pulls the trigger. The gun clicks. They've lived for another round.\n",
      "5 players remain.\n",
      "\n",
      "Next round begins...\n",
      "\n"
     ]
    },
    {
     "name": "stdin",
     "output_type": "stream",
     "text": [
      "\n",
      "Touya has the gun. Press enter to continue. \n"
     ]
    },
    {
     "name": "stdout",
     "output_type": "stream",
     "text": [
      "Touya puts the gun to their head.\n",
      "Touya pulls the trigger. The bullet shoots through their head and their body falls to the floor.\n",
      "4 players remain.\n",
      "\n",
      "Next round begins...\n",
      "\n"
     ]
    },
    {
     "name": "stdin",
     "output_type": "stream",
     "text": [
      "\n",
      "Tsukasa has the gun. Press enter to continue. \n"
     ]
    },
    {
     "name": "stdout",
     "output_type": "stream",
     "text": [
      "Tsukasa puts the gun to their head.\n",
      "Tsukasa pulls the trigger. The gun clicks. They've lived for another round.\n"
     ]
    },
    {
     "name": "stdin",
     "output_type": "stream",
     "text": [
      "\n",
      "Mizuki has the gun. Press enter to continue. \n"
     ]
    },
    {
     "name": "stdout",
     "output_type": "stream",
     "text": [
      "Mizuki puts the gun to their head.\n",
      "Mizuki pulls the trigger. The gun clicks. They've lived for another round.\n"
     ]
    },
    {
     "name": "stdin",
     "output_type": "stream",
     "text": [
      "\n",
      "Shizuku has the gun. Press enter to continue. \n"
     ]
    },
    {
     "name": "stdout",
     "output_type": "stream",
     "text": [
      "Shizuku puts the gun to their head.\n",
      "Shizuku pulls the trigger. The gun clicks. They've lived for another round.\n"
     ]
    },
    {
     "name": "stdin",
     "output_type": "stream",
     "text": [
      "\n",
      "Airi has the gun. Press enter to continue. \n"
     ]
    },
    {
     "name": "stdout",
     "output_type": "stream",
     "text": [
      "Airi puts the gun to their head.\n",
      "Airi pulls the trigger. The gun clicks. They've lived for another round.\n",
      "4 players remain.\n",
      "\n",
      "Next round begins...\n",
      "\n"
     ]
    },
    {
     "name": "stdin",
     "output_type": "stream",
     "text": [
      "\n",
      "Airi has the gun. Press enter to continue. \n"
     ]
    },
    {
     "name": "stdout",
     "output_type": "stream",
     "text": [
      "Airi puts the gun to their head.\n",
      "Airi pulls the trigger. The gun clicks. They've lived for another round.\n"
     ]
    },
    {
     "name": "stdin",
     "output_type": "stream",
     "text": [
      "\n",
      "Tsukasa has the gun. Press enter to continue. \n"
     ]
    },
    {
     "name": "stdout",
     "output_type": "stream",
     "text": [
      "Tsukasa puts the gun to their head.\n",
      "Tsukasa pulls the trigger. The gun clicks. They've lived for another round.\n"
     ]
    },
    {
     "name": "stdin",
     "output_type": "stream",
     "text": [
      "\n",
      "Mizuki has the gun. Press enter to continue. \n"
     ]
    },
    {
     "name": "stdout",
     "output_type": "stream",
     "text": [
      "Mizuki puts the gun to their head.\n",
      "Mizuki pulls the trigger. The gun clicks. They've lived for another round.\n"
     ]
    },
    {
     "name": "stdin",
     "output_type": "stream",
     "text": [
      "\n",
      "Shizuku has the gun. Press enter to continue. \n"
     ]
    },
    {
     "name": "stdout",
     "output_type": "stream",
     "text": [
      "Shizuku puts the gun to their head.\n",
      "Shizuku pulls the trigger. The gun clicks. They've lived for another round.\n",
      "4 players remain.\n",
      "\n",
      "Next round begins...\n",
      "\n"
     ]
    },
    {
     "name": "stdin",
     "output_type": "stream",
     "text": [
      "\n",
      "Tsukasa has the gun. Press enter to continue. \n"
     ]
    },
    {
     "name": "stdout",
     "output_type": "stream",
     "text": [
      "Tsukasa puts the gun to their head.\n",
      "Tsukasa pulls the trigger. The bullet shoots through their head and their body falls to the floor.\n",
      "3 players remain.\n",
      "\n",
      "Next round begins...\n",
      "\n"
     ]
    },
    {
     "name": "stdin",
     "output_type": "stream",
     "text": [
      "\n",
      "Shizuku has the gun. Press enter to continue. \n"
     ]
    },
    {
     "name": "stdout",
     "output_type": "stream",
     "text": [
      "Shizuku puts the gun to their head.\n",
      "Shizuku pulls the trigger. The gun clicks. They've lived for another round.\n"
     ]
    },
    {
     "name": "stdin",
     "output_type": "stream",
     "text": [
      "\n",
      "Mizuki has the gun. Press enter to continue. \n"
     ]
    },
    {
     "name": "stdout",
     "output_type": "stream",
     "text": [
      "Mizuki puts the gun to their head.\n",
      "Mizuki pulls the trigger. The bullet shoots through their head and their body falls to the floor.\n",
      "2 players remain.\n",
      "\n",
      "Next round begins...\n",
      "\n"
     ]
    },
    {
     "name": "stdin",
     "output_type": "stream",
     "text": [
      "\n",
      "Airi has the gun. Press enter to continue. \n"
     ]
    },
    {
     "name": "stdout",
     "output_type": "stream",
     "text": [
      "Airi puts the gun to their head.\n",
      "Airi pulls the trigger. The gun clicks. They've lived for another round.\n"
     ]
    },
    {
     "name": "stdin",
     "output_type": "stream",
     "text": [
      "\n",
      "Shizuku has the gun. Press enter to continue. \n"
     ]
    },
    {
     "name": "stdout",
     "output_type": "stream",
     "text": [
      "Shizuku puts the gun to their head.\n",
      "Shizuku pulls the trigger. The gun clicks. They've lived for another round.\n",
      "2 players remain.\n",
      "\n",
      "Next round begins...\n",
      "\n"
     ]
    },
    {
     "name": "stdin",
     "output_type": "stream",
     "text": [
      "\n",
      "Airi has the gun. Press enter to continue. \n"
     ]
    },
    {
     "name": "stdout",
     "output_type": "stream",
     "text": [
      "Airi puts the gun to their head.\n",
      "Airi pulls the trigger. The gun clicks. They've lived for another round.\n"
     ]
    },
    {
     "name": "stdin",
     "output_type": "stream",
     "text": [
      "\n",
      "Shizuku has the gun. Press enter to continue. \n"
     ]
    },
    {
     "name": "stdout",
     "output_type": "stream",
     "text": [
      "Shizuku puts the gun to their head.\n",
      "Shizuku pulls the trigger. The gun clicks. They've lived for another round.\n",
      "2 players remain.\n",
      "\n",
      "Next round begins...\n",
      "\n"
     ]
    },
    {
     "name": "stdin",
     "output_type": "stream",
     "text": [
      "\n",
      "Airi has the gun. Press enter to continue. \n"
     ]
    },
    {
     "name": "stdout",
     "output_type": "stream",
     "text": [
      "Airi puts the gun to their head.\n",
      "Airi pulls the trigger. The gun clicks. They've lived for another round.\n"
     ]
    },
    {
     "name": "stdin",
     "output_type": "stream",
     "text": [
      "\n",
      "Shizuku has the gun. Press enter to continue. \n"
     ]
    },
    {
     "name": "stdout",
     "output_type": "stream",
     "text": [
      "Shizuku puts the gun to their head.\n",
      "Shizuku pulls the trigger. The bullet shoots through their head and their body falls to the floor.\n",
      "1 players remain.\n",
      "\n",
      "Next round begins...\n",
      "\n"
     ]
    },
    {
     "name": "stdin",
     "output_type": "stream",
     "text": [
      "\n",
      "Airi has the gun. Press enter to continue. \n"
     ]
    },
    {
     "name": "stdout",
     "output_type": "stream",
     "text": [
      "Airi puts the gun to their head.\n",
      "Airi pulls the trigger. The gun clicks. They've lived for another round.\n",
      "1 players remain.\n",
      "\n",
      "Next round begins...\n",
      "\n"
     ]
    },
    {
     "name": "stdin",
     "output_type": "stream",
     "text": [
      "\n",
      "Airi has the gun. Press enter to continue. \n"
     ]
    },
    {
     "name": "stdout",
     "output_type": "stream",
     "text": [
      "Airi puts the gun to their head.\n",
      "Airi pulls the trigger. The gun clicks. They've lived for another round.\n",
      "1 players remain.\n",
      "\n",
      "Next round begins...\n",
      "\n"
     ]
    },
    {
     "name": "stdin",
     "output_type": "stream",
     "text": [
      "\n",
      "Airi has the gun. Press enter to continue. \n"
     ]
    },
    {
     "name": "stdout",
     "output_type": "stream",
     "text": [
      "Airi puts the gun to their head.\n",
      "Airi pulls the trigger. The bullet shoots through their head and their body falls to the floor.\n",
      "0 players remain.\n",
      "\n",
      "All players have died. Game Over.\n"
     ]
    }
   ],
   "source": [
    "import random\n",
    "\n",
    "def russian_roulette():\n",
    "    chambers = 7\n",
    "    bullet_position = random.randint(1, chambers)\n",
    "\n",
    "    print(\"Welcome to Russian Roulette.\")\n",
    "    print(\"There are 7 chambers and 1 bullet.\\n\")\n",
    "\n",
    "    num_players = int(input(\"Enter the number of players: \"))\n",
    "    players = []\n",
    "\n",
    "    for i in range(num_players):\n",
    "        name = input(f\"Enter the name of player {i + 1}: \")\n",
    "        players.append(name)\n",
    "\n",
    "    while len(players) > 0:\n",
    "        random.shuffle(players)\n",
    "        \n",
    "        for current_player in players[:]:\n",
    "            input(f\"\\n{current_player} has the gun. Press enter to continue.\")\n",
    "\n",
    "            current_chamber = random.randint(1, chambers)\n",
    "            print\n",
    "            \n",
    "            (f\"The chamber is spun. It lands on chamber {current_chamber}.\")\n",
    "\n",
    "            print(f\"{current_player} puts the gun to their head.\")\n",
    "\n",
    "            if current_chamber == bullet_position:\n",
    "                print(f\"{current_player} pulls the trigger. The bullet shoots through their head and their body falls to the floor.\")\n",
    "                players.remove(current_player)\n",
    "                break \n",
    "            else:\n",
    "                print(f\"{current_player} pulls the trigger. The gun clicks. They've lived for another round.\")\n",
    "\n",
    "        print(f\"{len(players)} players remain.\\n\")\n",
    "\n",
    "        if len(players) == 0:\n",
    "            print(\"All players have died. Game Over.\")\n",
    "        else:\n",
    "            print(\"Next round begins...\\n\")\n",
    "\n",
    "russian_roulette()"
   ]
  },
  {
   "cell_type": "markdown",
   "id": "897d1d68-732a-49c8-8473-ac9c586cebb1",
   "metadata": {},
   "source": [
    "# RR Chronilogical Player Order"
   ]
  },
  {
   "cell_type": "code",
   "execution_count": 68,
   "id": "bb40e253-527e-46d4-8c51-c450c58304db",
   "metadata": {},
   "outputs": [
    {
     "name": "stdout",
     "output_type": "stream",
     "text": [
      "Welcome to Russian Roulette.\n",
      "There are 7 chambers and 1 bullet.\n",
      "\n"
     ]
    },
    {
     "name": "stdin",
     "output_type": "stream",
     "text": [
      "Enter the number of players:  4\n",
      "Enter the name of player 1:  Akito\n",
      "Enter the name of player 2:  An\n",
      "Enter the name of player 3:  Touya\n",
      "Enter the name of player 4:  Kohane\n",
      "\n",
      "Akito has the gun. Press enter to continue. \n"
     ]
    },
    {
     "name": "stdout",
     "output_type": "stream",
     "text": [
      "The chamber is spun. It lands on chamber 4.\n",
      "Akito puts the gun to their head.\n",
      "Akito pulls the trigger. The gun clicks. They've lived for another round.\n"
     ]
    },
    {
     "name": "stdin",
     "output_type": "stream",
     "text": [
      "\n",
      "An has the gun. Press enter to continue. \n"
     ]
    },
    {
     "name": "stdout",
     "output_type": "stream",
     "text": [
      "The chamber is spun. It lands on chamber 4.\n",
      "An puts the gun to their head.\n",
      "An pulls the trigger. The gun clicks. They've lived for another round.\n"
     ]
    },
    {
     "name": "stdin",
     "output_type": "stream",
     "text": [
      "\n",
      "Touya has the gun. Press enter to continue. \n"
     ]
    },
    {
     "name": "stdout",
     "output_type": "stream",
     "text": [
      "The chamber is spun. It lands on chamber 7.\n",
      "Touya puts the gun to their head.\n",
      "Touya pulls the trigger. The gun clicks. They've lived for another round.\n"
     ]
    },
    {
     "name": "stdin",
     "output_type": "stream",
     "text": [
      "\n",
      "Kohane has the gun. Press enter to continue. \n"
     ]
    },
    {
     "name": "stdout",
     "output_type": "stream",
     "text": [
      "The chamber is spun. It lands on chamber 5.\n",
      "Kohane puts the gun to their head.\n",
      "Kohane pulls the trigger. The gun clicks. They've lived for another round.\n",
      "4 players remain.\n",
      "\n",
      "Next round begins...\n",
      "\n"
     ]
    },
    {
     "name": "stdin",
     "output_type": "stream",
     "text": [
      "\n",
      "Akito has the gun. Press enter to continue. \n"
     ]
    },
    {
     "name": "stdout",
     "output_type": "stream",
     "text": [
      "The chamber is spun. It lands on chamber 2.\n",
      "Akito puts the gun to their head.\n",
      "Akito pulls the trigger. The gun clicks. They've lived for another round.\n"
     ]
    },
    {
     "name": "stdin",
     "output_type": "stream",
     "text": [
      "\n",
      "An has the gun. Press enter to continue. \n"
     ]
    },
    {
     "name": "stdout",
     "output_type": "stream",
     "text": [
      "The chamber is spun. It lands on chamber 3.\n",
      "An puts the gun to their head.\n",
      "An pulls the trigger. The gun clicks. They've lived for another round.\n"
     ]
    },
    {
     "name": "stdin",
     "output_type": "stream",
     "text": [
      "\n",
      "Touya has the gun. Press enter to continue. \n"
     ]
    },
    {
     "name": "stdout",
     "output_type": "stream",
     "text": [
      "The chamber is spun. It lands on chamber 1.\n",
      "Touya puts the gun to their head.\n",
      "Touya pulls the trigger. The bullet shoots through their head and their body falls to the floor.\n",
      "3 players remain.\n",
      "\n",
      "Next round begins...\n",
      "\n"
     ]
    },
    {
     "name": "stdin",
     "output_type": "stream",
     "text": [
      "\n",
      "Akito has the gun. Press enter to continue. \n"
     ]
    },
    {
     "name": "stdout",
     "output_type": "stream",
     "text": [
      "The chamber is spun. It lands on chamber 2.\n",
      "Akito puts the gun to their head.\n",
      "Akito pulls the trigger. The gun clicks. They've lived for another round.\n"
     ]
    },
    {
     "name": "stdin",
     "output_type": "stream",
     "text": [
      "\n",
      "An has the gun. Press enter to continue. \n"
     ]
    },
    {
     "name": "stdout",
     "output_type": "stream",
     "text": [
      "The chamber is spun. It lands on chamber 7.\n",
      "An puts the gun to their head.\n",
      "An pulls the trigger. The gun clicks. They've lived for another round.\n"
     ]
    },
    {
     "name": "stdin",
     "output_type": "stream",
     "text": [
      "\n",
      "Kohane has the gun. Press enter to continue. \n"
     ]
    },
    {
     "name": "stdout",
     "output_type": "stream",
     "text": [
      "The chamber is spun. It lands on chamber 7.\n",
      "Kohane puts the gun to their head.\n",
      "Kohane pulls the trigger. The gun clicks. They've lived for another round.\n",
      "3 players remain.\n",
      "\n",
      "Next round begins...\n",
      "\n"
     ]
    },
    {
     "name": "stdin",
     "output_type": "stream",
     "text": [
      "\n",
      "Akito has the gun. Press enter to continue. \n"
     ]
    },
    {
     "name": "stdout",
     "output_type": "stream",
     "text": [
      "The chamber is spun. It lands on chamber 6.\n",
      "Akito puts the gun to their head.\n",
      "Akito pulls the trigger. The gun clicks. They've lived for another round.\n"
     ]
    },
    {
     "name": "stdin",
     "output_type": "stream",
     "text": [
      "\n",
      "An has the gun. Press enter to continue. \n"
     ]
    },
    {
     "name": "stdout",
     "output_type": "stream",
     "text": [
      "The chamber is spun. It lands on chamber 5.\n",
      "An puts the gun to their head.\n",
      "An pulls the trigger. The gun clicks. They've lived for another round.\n"
     ]
    },
    {
     "name": "stdin",
     "output_type": "stream",
     "text": [
      "\n",
      "Kohane has the gun. Press enter to continue. \n"
     ]
    },
    {
     "name": "stdout",
     "output_type": "stream",
     "text": [
      "The chamber is spun. It lands on chamber 6.\n",
      "Kohane puts the gun to their head.\n",
      "Kohane pulls the trigger. The gun clicks. They've lived for another round.\n",
      "3 players remain.\n",
      "\n",
      "Next round begins...\n",
      "\n"
     ]
    },
    {
     "name": "stdin",
     "output_type": "stream",
     "text": [
      "\n",
      "Akito has the gun. Press enter to continue. \n"
     ]
    },
    {
     "name": "stdout",
     "output_type": "stream",
     "text": [
      "The chamber is spun. It lands on chamber 4.\n",
      "Akito puts the gun to their head.\n",
      "Akito pulls the trigger. The gun clicks. They've lived for another round.\n"
     ]
    },
    {
     "name": "stdin",
     "output_type": "stream",
     "text": [
      "\n",
      "An has the gun. Press enter to continue. \n"
     ]
    },
    {
     "name": "stdout",
     "output_type": "stream",
     "text": [
      "The chamber is spun. It lands on chamber 5.\n",
      "An puts the gun to their head.\n",
      "An pulls the trigger. The gun clicks. They've lived for another round.\n"
     ]
    },
    {
     "name": "stdin",
     "output_type": "stream",
     "text": [
      "\n",
      "Kohane has the gun. Press enter to continue. \n"
     ]
    },
    {
     "name": "stdout",
     "output_type": "stream",
     "text": [
      "The chamber is spun. It lands on chamber 2.\n",
      "Kohane puts the gun to their head.\n",
      "Kohane pulls the trigger. The gun clicks. They've lived for another round.\n",
      "3 players remain.\n",
      "\n",
      "Next round begins...\n",
      "\n"
     ]
    },
    {
     "name": "stdin",
     "output_type": "stream",
     "text": [
      "\n",
      "Akito has the gun. Press enter to continue. \n"
     ]
    },
    {
     "name": "stdout",
     "output_type": "stream",
     "text": [
      "The chamber is spun. It lands on chamber 3.\n",
      "Akito puts the gun to their head.\n",
      "Akito pulls the trigger. The gun clicks. They've lived for another round.\n"
     ]
    },
    {
     "name": "stdin",
     "output_type": "stream",
     "text": [
      "\n",
      "An has the gun. Press enter to continue. \n"
     ]
    },
    {
     "name": "stdout",
     "output_type": "stream",
     "text": [
      "The chamber is spun. It lands on chamber 7.\n",
      "An puts the gun to their head.\n",
      "An pulls the trigger. The gun clicks. They've lived for another round.\n"
     ]
    },
    {
     "name": "stdin",
     "output_type": "stream",
     "text": [
      "\n",
      "Kohane has the gun. Press enter to continue. \n"
     ]
    },
    {
     "name": "stdout",
     "output_type": "stream",
     "text": [
      "The chamber is spun. It lands on chamber 4.\n",
      "Kohane puts the gun to their head.\n",
      "Kohane pulls the trigger. The gun clicks. They've lived for another round.\n",
      "3 players remain.\n",
      "\n",
      "Next round begins...\n",
      "\n"
     ]
    },
    {
     "name": "stdin",
     "output_type": "stream",
     "text": [
      "\n",
      "Akito has the gun. Press enter to continue. \n"
     ]
    },
    {
     "name": "stdout",
     "output_type": "stream",
     "text": [
      "The chamber is spun. It lands on chamber 4.\n",
      "Akito puts the gun to their head.\n",
      "Akito pulls the trigger. The gun clicks. They've lived for another round.\n"
     ]
    },
    {
     "name": "stdin",
     "output_type": "stream",
     "text": [
      "\n",
      "An has the gun. Press enter to continue. \n"
     ]
    },
    {
     "name": "stdout",
     "output_type": "stream",
     "text": [
      "The chamber is spun. It lands on chamber 5.\n",
      "An puts the gun to their head.\n",
      "An pulls the trigger. The gun clicks. They've lived for another round.\n"
     ]
    },
    {
     "name": "stdin",
     "output_type": "stream",
     "text": [
      "\n",
      "Kohane has the gun. Press enter to continue. \n"
     ]
    },
    {
     "name": "stdout",
     "output_type": "stream",
     "text": [
      "The chamber is spun. It lands on chamber 4.\n",
      "Kohane puts the gun to their head.\n",
      "Kohane pulls the trigger. The gun clicks. They've lived for another round.\n",
      "3 players remain.\n",
      "\n",
      "Next round begins...\n",
      "\n"
     ]
    },
    {
     "name": "stdin",
     "output_type": "stream",
     "text": [
      "\n",
      "Akito has the gun. Press enter to continue. \n"
     ]
    },
    {
     "name": "stdout",
     "output_type": "stream",
     "text": [
      "The chamber is spun. It lands on chamber 5.\n",
      "Akito puts the gun to their head.\n",
      "Akito pulls the trigger. The gun clicks. They've lived for another round.\n"
     ]
    },
    {
     "name": "stdin",
     "output_type": "stream",
     "text": [
      "\n",
      "An has the gun. Press enter to continue. \n"
     ]
    },
    {
     "name": "stdout",
     "output_type": "stream",
     "text": [
      "The chamber is spun. It lands on chamber 4.\n",
      "An puts the gun to their head.\n",
      "An pulls the trigger. The gun clicks. They've lived for another round.\n"
     ]
    },
    {
     "name": "stdin",
     "output_type": "stream",
     "text": [
      "\n",
      "Kohane has the gun. Press enter to continue. \n"
     ]
    },
    {
     "name": "stdout",
     "output_type": "stream",
     "text": [
      "The chamber is spun. It lands on chamber 2.\n",
      "Kohane puts the gun to their head.\n",
      "Kohane pulls the trigger. The gun clicks. They've lived for another round.\n",
      "3 players remain.\n",
      "\n",
      "Next round begins...\n",
      "\n"
     ]
    },
    {
     "name": "stdin",
     "output_type": "stream",
     "text": [
      "\n",
      "Akito has the gun. Press enter to continue. \n"
     ]
    },
    {
     "name": "stdout",
     "output_type": "stream",
     "text": [
      "The chamber is spun. It lands on chamber 4.\n",
      "Akito puts the gun to their head.\n",
      "Akito pulls the trigger. The gun clicks. They've lived for another round.\n"
     ]
    },
    {
     "name": "stdin",
     "output_type": "stream",
     "text": [
      "\n",
      "An has the gun. Press enter to continue. \n"
     ]
    },
    {
     "name": "stdout",
     "output_type": "stream",
     "text": [
      "The chamber is spun. It lands on chamber 1.\n",
      "An puts the gun to their head.\n",
      "An pulls the trigger. The bullet shoots through their head and their body falls to the floor.\n",
      "2 players remain.\n",
      "\n",
      "Next round begins...\n",
      "\n"
     ]
    },
    {
     "name": "stdin",
     "output_type": "stream",
     "text": [
      "\n",
      "Akito has the gun. Press enter to continue. \n"
     ]
    },
    {
     "name": "stdout",
     "output_type": "stream",
     "text": [
      "The chamber is spun. It lands on chamber 5.\n",
      "Akito puts the gun to their head.\n",
      "Akito pulls the trigger. The gun clicks. They've lived for another round.\n"
     ]
    },
    {
     "name": "stdin",
     "output_type": "stream",
     "text": [
      "\n",
      "Kohane has the gun. Press enter to continue. \n"
     ]
    },
    {
     "name": "stdout",
     "output_type": "stream",
     "text": [
      "The chamber is spun. It lands on chamber 1.\n",
      "Kohane puts the gun to their head.\n",
      "Kohane pulls the trigger. The bullet shoots through their head and their body falls to the floor.\n",
      "1 players remain.\n",
      "\n",
      "Next round begins...\n",
      "\n"
     ]
    },
    {
     "name": "stdin",
     "output_type": "stream",
     "text": [
      "\n",
      "Akito has the gun. Press enter to continue. \n"
     ]
    },
    {
     "name": "stdout",
     "output_type": "stream",
     "text": [
      "The chamber is spun. It lands on chamber 1.\n",
      "Akito puts the gun to their head.\n",
      "Akito pulls the trigger. The bullet shoots through their head and their body falls to the floor.\n",
      "0 players remain.\n",
      "\n",
      "All players have died. Game Over.\n"
     ]
    }
   ],
   "source": [
    "import random\n",
    "\n",
    "def russian_roulette():\n",
    "    chambers = 7\n",
    "    bullet_position = random.randint(1, chambers)\n",
    "\n",
    "    print(\"Welcome to Russian Roulette.\")\n",
    "    print(\"There are 7 chambers and 1 bullet.\\n\")\n",
    "\n",
    "    num_players = int(input(\"Enter the number of players: \"))\n",
    "    players = []\n",
    "\n",
    "    for i in range(num_players):\n",
    "        name = input(f\"Enter the name of player {i + 1}: \")\n",
    "        players.append(name)\n",
    "\n",
    "    while len(players) > 0:\n",
    "        \n",
    "        for current_player in players[:]:\n",
    "            input(f\"\\n{current_player} has the gun. Press enter to continue.\")\n",
    "\n",
    "            current_chamber = random.randint(1, chambers)\n",
    "            print(f\"The chamber is spun. It lands on chamber {current_chamber}.\")\n",
    "\n",
    "            print(f\"{current_player} puts the gun to their head.\")\n",
    "\n",
    "            if current_chamber == bullet_position:\n",
    "                print(f\"{current_player} pulls the trigger. The bullet shoots through their head and their body falls to the floor.\")\n",
    "                players.remove(current_player)\n",
    "                break \n",
    "            else:\n",
    "                print(f\"{current_player} pulls the trigger. The gun clicks. They've lived for another round.\")\n",
    "\n",
    "        print(f\"{len(players)} players remain.\\n\")\n",
    "\n",
    "        if len(players) == 0:\n",
    "            print(\"All players have died. Game Over.\")\n",
    "        else:\n",
    "            print(\"Next round begins...\\n\")\n",
    "\n",
    "russian_roulette()"
   ]
  },
  {
   "cell_type": "markdown",
   "id": "2a3aafb2-ed7d-47df-aedc-1e6a27560fcb",
   "metadata": {},
   "source": [
    "# Mafia"
   ]
  },
  {
   "cell_type": "code",
   "execution_count": 42,
   "id": "c2aeeecd-a75b-4499-86e9-d2626f8309b2",
   "metadata": {},
   "outputs": [
    {
     "name": "stdin",
     "output_type": "stream",
     "text": [
      "How many players are there? Enter a number six or higher:  6\n",
      "Enter the name of player 1:  A\n",
      "Enter the name of player 2:  B\n",
      "Enter the name of player 3:  C\n",
      "Enter the name of player 4:  D\n",
      "Enter the name of player 5:  E\n",
      "Enter the name of player 6:  F\n"
     ]
    },
    {
     "name": "stdout",
     "output_type": "stream",
     "text": [
      "\n",
      "Setup complete. Player roles:\n",
      "A: Villager\n",
      "B: Villager\n",
      "C: Mafia\n",
      "D: Mafia\n",
      "E: Villager\n",
      "F: Villager\n",
      "\n",
      "Night Phase\n",
      "The Mafia has eliminated A.\n",
      "\n",
      "Day Phase\n",
      "The Mafia has eliminated A.\n",
      "Remaining players: ['B', 'C', 'D', 'E', 'F']\n",
      "\n"
     ]
    },
    {
     "name": "stdin",
     "output_type": "stream",
     "text": [
      "B, who do you choose to eliminate?:  B\n",
      "C, who do you choose to eliminate?:  B\n",
      "D, who do you choose to eliminate?:  B\n",
      "E, who do you choose to eliminate?:  B\n",
      "F, who do you choose to eliminate?:  B\n"
     ]
    },
    {
     "name": "stdout",
     "output_type": "stream",
     "text": [
      "The village has chosen to eliminate B.\n",
      "\n",
      "Night Phase\n",
      "The Mafia has eliminated F.\n",
      "\n",
      "Day Phase\n",
      "The Mafia has eliminated F.\n",
      "Remaining players: ['C', 'D', 'E']\n",
      "\n"
     ]
    },
    {
     "name": "stdin",
     "output_type": "stream",
     "text": [
      "C, who do you choose to eliminate?:  D\n",
      "D, who do you choose to eliminate?:  D\n",
      "E, who do you choose to eliminate?:  D\n"
     ]
    },
    {
     "name": "stdout",
     "output_type": "stream",
     "text": [
      "The village has chosen to eliminate D.\n",
      "The village has fallen. The Mafia has won.\n",
      "Game Over.\n"
     ]
    }
   ],
   "source": [
    "import random\n",
    "\n",
    "def setup_game():\n",
    "    players = []\n",
    "    num_players = int(input(\"How many players are there? Enter a number six or higher: \"))\n",
    "    \n",
    "    if num_players < 6:\n",
    "        print(\"There are not enough players. The game requires at least six players.\")\n",
    "        return None, None\n",
    "\n",
    "    for i in range(num_players):\n",
    "        name = input(f\"Enter the name of player {i + 1}: \")\n",
    "        players.append(name)\n",
    "\n",
    "    # Assign roles\n",
    "    roles = ['Mafia'] * (num_players // 3) + ['Villager'] * (num_players - num_players // 3)\n",
    "    random.shuffle(roles)\n",
    "    \n",
    "    player_roles = dict(zip(players, roles))\n",
    "    return players, player_roles\n",
    "\n",
    "def night_phase(players, player_roles):\n",
    "    print(\"\\nNight Phase\")\n",
    "    mafia = [player for player, role in player_roles.items() if role == 'Mafia']\n",
    "    \n",
    "    if not mafia:\n",
    "        print(\"No one in the Mafia remains.\")\n",
    "        return None\n",
    "\n",
    "    mafia_target = random.choice([p for p in players if player_roles[p] != 'Mafia'])\n",
    "    print(f\"The Mafia has eliminated {mafia_target}.\")\n",
    "    return mafia_target, mafia\n",
    "\n",
    "def day_phase(players, mafia_target, mafia, player_roles):\n",
    "    print(\"\\nDay Phase\")\n",
    "    print(f\"The Mafia has eliminated {mafia_target}.\")\n",
    "    players.remove(mafia_target)\n",
    "    print(f\"Remaining players: {players}\\n\")\n",
    "\n",
    "    if len(players) <= 2:  # Only Mafia and one villager left\n",
    "        print(\"The village has fallen. The Mafia has won.\")\n",
    "        return True\n",
    "\n",
    "    # Voting mechanism\n",
    "    votes = {}\n",
    "    for player in players:\n",
    "        while True:\n",
    "            vote = input(f\"{player}, who do you choose to eliminate?: \")\n",
    "            if vote in players:\n",
    "                votes[vote] = votes.get(vote, 0) + 1\n",
    "                break\n",
    "            else:\n",
    "                print(f\"{vote} is not a player.\")\n",
    "\n",
    "    # Determine the player with the most votes\n",
    "    if votes:\n",
    "        eliminated_player = max(votes, key=votes.get)\n",
    "        print(f\"The village has chosen to eliminate {eliminated_player}.\")\n",
    "        players.remove(eliminated_player)\n",
    "\n",
    "        # Check if Mafia wins after the elimination\n",
    "        if len(players) <= len(mafia):  # Check if Mafia has majority\n",
    "            print(\"The village has fallen. The Mafia has won.\")\n",
    "            return True\n",
    "\n",
    "        # Check if villagers win (all Mafia eliminated)\n",
    "        if all(player_roles[player] != 'Mafia' for player in players):\n",
    "            print(\"The villagers have won! Hooray!\")\n",
    "            return True\n",
    "\n",
    "    return False\n",
    "\n",
    "def mafia_game():\n",
    "    players, player_roles = setup_game()\n",
    "    if players is None:\n",
    "        return\n",
    "\n",
    "    print(\"\\nSetup complete. Player roles:\")\n",
    "    for player, role in player_roles.items():\n",
    "        print(f\"{player}: {role}\")\n",
    "\n",
    "    while True:\n",
    "        mafia_target, mafia = night_phase(players, player_roles)\n",
    "        if mafia_target is None:\n",
    "            break\n",
    "        if day_phase(players, mafia_target, mafia, player_roles):  # Pass player_roles here\n",
    "            break\n",
    "\n",
    "    print(\"Game Over.\")\n",
    "\n",
    "\n",
    "mafia_game()"
   ]
  },
  {
   "cell_type": "markdown",
   "id": "18f9f6aa-b836-4ff8-b6ec-8da0275724ba",
   "metadata": {},
   "source": [
    "# Hot Potato"
   ]
  },
  {
   "cell_type": "code",
   "execution_count": null,
   "id": "964185a7-5002-40c2-9175-3b6669e0479c",
   "metadata": {},
   "outputs": [],
   "source": [
    "import random\n",
    "import time\n",
    "\n",
    "def setup_game():\n",
    "    players = []\n",
    "    num_players = int(input(\"Enter the number of players (min 2): \"))\n",
    "    \n",
    "    if num_players < 2:\n",
    "        print(\"Not enough players. The game requires at least 2 players.\")\n",
    "        return []\n",
    "\n",
    "    for i in range(num_players):\n",
    "        name = input(f\"Enter the name of player {i + 1}: \")\n",
    "        players.append(name)\n",
    "\n",
    "    return players\n",
    "\n",
    "def hot_potato(players):\n",
    "    print(\"\\nWelcome to Hot Potato!\")\n",
    "    time.sleep(1)\n",
    "\n",
    "    while len(players) > 1:\n",
    "        print(f\"\\nCurrent players: {', '.join(players)}\")\n",
    "        input(\"Press Enter to start passing the potato...\")\n",
    "\n",
    "        passing_time = random.randint(1, 5)\n",
    "        time.sleep(passing_time)\n",
    "\n",
    "        eliminated_player = random.choice(players)\n",
    "        print(f\"\\nThe potato exploded! {eliminated_player} is out!\")\n",
    "        players.remove(eliminated_player)\n",
    "\n",
    "    print(f\"\\n{players[0]} is the winner!\")\n",
    "\n",
    "def hot_potato_game():\n",
    "    players = setup_game()\n",
    "    if players:\n",
    "        hot_potato(players)\n",
    "\n",
    "hot_potato_game()"
   ]
  },
  {
   "cell_type": "code",
   "execution_count": null,
   "id": "3f215b9d-e98d-44aa-81a7-2c0b16fba46a",
   "metadata": {},
   "outputs": [],
   "source": []
  }
 ],
 "metadata": {
  "kernelspec": {
   "display_name": "Python 3 (ipykernel)",
   "language": "python",
   "name": "python3"
  },
  "language_info": {
   "codemirror_mode": {
    "name": "ipython",
    "version": 3
   },
   "file_extension": ".py",
   "mimetype": "text/x-python",
   "name": "python",
   "nbconvert_exporter": "python",
   "pygments_lexer": "ipython3",
   "version": "3.12.4"
  }
 },
 "nbformat": 4,
 "nbformat_minor": 5
}
