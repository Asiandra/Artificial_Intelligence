{
 "cells": [
  {
   "cell_type": "code",
   "execution_count": 1,
   "id": "468d79d1",
   "metadata": {},
   "outputs": [],
   "source": [
    "import random"
   ]
  },
  {
   "cell_type": "markdown",
   "id": "7036e1cd",
   "metadata": {},
   "source": [
    "<p style=\"color: #343434; text-align: center;\">The probability of someone donating O- or AB- blood is 8%</p>"
   ]
  },
  {
   "cell_type": "code",
   "execution_count": 2,
   "id": "6dfedc75",
   "metadata": {},
   "outputs": [
    {
     "name": "stdout",
     "output_type": "stream",
     "text": [
      "0.147\n"
     ]
    }
   ],
   "source": [
    "trials = 1000\n",
    "count = 0\n",
    "blood = 0\n",
    "while count < trials:\n",
    "    num = random.randint(1, 1000)\n",
    "    if (num >= 652 and num <= 782) or (num >= 987):\n",
    "        blood += 1\n",
    "    count += 1\n",
    "    \n",
    "print(blood/trials)"
   ]
  },
  {
   "cell_type": "code",
   "execution_count": null,
   "id": "1eedfc2c",
   "metadata": {},
   "outputs": [],
   "source": []
  }
 ],
 "metadata": {
  "kernelspec": {
   "display_name": "Python 3 (ipykernel)",
   "language": "python",
   "name": "python3"
  },
  "language_info": {
   "codemirror_mode": {
    "name": "ipython",
    "version": 3
   },
   "file_extension": ".py",
   "mimetype": "text/x-python",
   "name": "python",
   "nbconvert_exporter": "python",
   "pygments_lexer": "ipython3",
   "version": "3.9.13"
  }
 },
 "nbformat": 4,
 "nbformat_minor": 5
}
