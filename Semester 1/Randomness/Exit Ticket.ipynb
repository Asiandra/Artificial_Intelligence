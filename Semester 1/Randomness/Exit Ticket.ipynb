{
 "cells": [
  {
   "cell_type": "code",
   "execution_count": 1,
   "id": "ca28f9a1",
   "metadata": {},
   "outputs": [],
   "source": [
    "import random\n",
    "from tqdm import tqdm\n",
    "import time"
   ]
  },
  {
   "cell_type": "code",
   "execution_count": 2,
   "id": "b0ec5e4c",
   "metadata": {},
   "outputs": [
    {
     "name": "stderr",
     "output_type": "stream",
     "text": [
      "Aoyagi Touya: 100%|██████████| 100/100 [01:40<00:00,  1.01s/it]\n"
     ]
    }
   ],
   "source": [
    "with tqdm(total=100, desc='Aoyagi Touya') as pbar:\n",
    "    for i in range(100):\n",
    "        time.sleep(1)\n",
    "        pbar.update(1)"
   ]
  },
  {
   "cell_type": "code",
   "execution_count": 5,
   "id": "96cb94de",
   "metadata": {},
   "outputs": [
    {
     "name": "stdout",
     "output_type": "stream",
     "text": [
      "Red: 0.3336\n",
      "Blue: 0.3333\n",
      "Green: 0.3331\n"
     ]
    }
   ],
   "source": [
    "def marbles(simulations=10000):\n",
    "    colors={'red':0, 'green':0, 'blue':0}\n",
    "    for i in range(simulations):\n",
    "        choice=random.choice(['red', 'green', 'blue'])\n",
    "        colors[choice] += 1\n",
    "    reds=colors['red']/simulations\n",
    "    blues=colors['blue']/simulations\n",
    "    greens=colors['green']/simulations\n",
    "    return reds, greens, blues\n",
    "red, blue, green = marbles()\n",
    "\n",
    "print(f'Red: {red}\\nBlue: {blue}\\nGreen: {green}')"
   ]
  },
  {
   "cell_type": "code",
   "execution_count": null,
   "id": "d71cdfd6",
   "metadata": {},
   "outputs": [],
   "source": []
  }
 ],
 "metadata": {
  "kernelspec": {
   "display_name": "Python 3 (ipykernel)",
   "language": "python",
   "name": "python3"
  },
  "language_info": {
   "codemirror_mode": {
    "name": "ipython",
    "version": 3
   },
   "file_extension": ".py",
   "mimetype": "text/x-python",
   "name": "python",
   "nbconvert_exporter": "python",
   "pygments_lexer": "ipython3",
   "version": "3.9.13"
  }
 },
 "nbformat": 4,
 "nbformat_minor": 5
}
