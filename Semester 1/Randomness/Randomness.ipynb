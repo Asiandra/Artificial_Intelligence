{
 "cells": [
  {
   "cell_type": "code",
   "execution_count": 2,
   "id": "2b1b4831",
   "metadata": {},
   "outputs": [],
   "source": [
    "import random"
   ]
  },
  {
   "cell_type": "code",
   "execution_count": null,
   "id": "3ffa8625",
   "metadata": {},
   "outputs": [],
   "source": [
    "def teanie_beanies(trials):\n",
    "    count = 0\n",
    "    beanies = []\n",
    "    avg = 0\n",
    "    while count < trials:\n",
    "        while len(beanies) < 10:\n",
    "            num = random.randint(1, 10)\n",
    "            if num not in beanies:\n",
    "                beanies.append(num)\n",
    "            if len(beanies) == 10:\n",
    "                avg = avg + count\n",
    "            count += 1\n",
    "    return avg/trials\n",
    "\n",
    "teanie_beanies(1000)"
   ]
  },
  {
   "cell_type": "code",
   "execution_count": null,
   "id": "ce6d3981",
   "metadata": {},
   "outputs": [],
   "source": [
    "def hot_detos(hd_trial):\n",
    "    chance=0\n",
    "    spicy=0\n",
    "    normal="
   ]
  },
  {
   "cell_type": "code",
   "execution_count": null,
   "id": "7143ed2f",
   "metadata": {},
   "outputs": [],
   "source": []
  },
  {
   "cell_type": "code",
   "execution_count": null,
   "id": "264e7d42",
   "metadata": {},
   "outputs": [],
   "source": []
  }
 ],
 "metadata": {
  "kernelspec": {
   "display_name": "Python 3 (ipykernel)",
   "language": "python",
   "name": "python3"
  },
  "language_info": {
   "codemirror_mode": {
    "name": "ipython",
    "version": 3
   },
   "file_extension": ".py",
   "mimetype": "text/x-python",
   "name": "python",
   "nbconvert_exporter": "python",
   "pygments_lexer": "ipython3",
   "version": "3.9.13"
  }
 },
 "nbformat": 4,
 "nbformat_minor": 5
}
