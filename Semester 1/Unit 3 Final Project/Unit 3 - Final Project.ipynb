{
 "cells": [
  {
   "cell_type": "markdown",
   "id": "9919c268",
   "metadata": {},
   "source": [
    "# Choose a Data Set\n",
    "\n",
    "Create your own dataset by scraping one of the following websites *(level 5)*:\n",
    "- [Wikipedia](https://www.wikipedia.org/)\n",
    "- [OpenLibrary](https://openlibrary.org/)\n",
    "\n",
    "**OR** \n",
    "\n",
    "Use data gathered from one of the following APIs *(level 4)*: \n",
    "- [TMDB](https://developer.themoviedb.org/reference/intro/getting-started)\n",
    "- [College Scorecard](https://collegescorecard.ed.gov/data/api-documentation/)\n",
    "\n",
    "**OR** \n",
    "\n",
    "Pick a JSON dataset *(level 3)*:\n",
    "- [Food/Restaurant Data](https://drive.google.com/drive/folders/1V94S6WpclvQmbnW88KVMD4EruryA1oma?usp=drive_link)\n",
    "- [Fashion Data](https://drive.google.com/drive/folders/1V8SbFjtRRW8WVf3xBzg0gzLjOtMhHea_?usp=drive_link)\n",
    "\n",
    "**OR** \n",
    "\n",
    "Pick a CSV dataset *(level 2)*:\n",
    "- [LA Parking Tickets](https://drive.google.com/drive/folders/1vaOfwMi6QmZEGsXr8VM0ulPGzvTTBCgm?usp=drive_link)\n",
    "- [Hotels](https://drive.google.com/drive/folders/1IpVFxgwBJvJHKoOuBsk6WK2qYqFYP4hi?usp=drive_link)"
   ]
  },
  {
   "cell_type": "markdown",
   "id": "ae147ea6",
   "metadata": {},
   "source": [
    "# My Question\n",
    "### What is the probability of getting five books on the trending page with the letter \"a\" in it?"
   ]
  },
  {
   "cell_type": "markdown",
   "id": "149f324f",
   "metadata": {},
   "source": [
    "# My Answer"
   ]
  },
  {
   "cell_type": "code",
   "execution_count": 1,
   "id": "b228559e",
   "metadata": {},
   "outputs": [],
   "source": [
    "import requests\n",
    "from bs4 import BeautifulSoup\n",
    "import pandas as pd"
   ]
  },
  {
   "cell_type": "code",
   "execution_count": 3,
   "id": "633c547d",
   "metadata": {},
   "outputs": [
    {
     "name": "stderr",
     "output_type": "stream",
     "text": [
      "C:\\Users\\kitka\\AppData\\Local\\Temp\\ipykernel_16004\\2612498031.py:20: DeprecationWarning: The 'text' argument to find()-type methods is deprecated. Use 'string' instead.\n",
      "  log_info = book.find(text=\"Logged\")\n"
     ]
    },
    {
     "data": {
      "text/html": [
       "<div>\n",
       "<style scoped>\n",
       "    .dataframe tbody tr th:only-of-type {\n",
       "        vertical-align: middle;\n",
       "    }\n",
       "\n",
       "    .dataframe tbody tr th {\n",
       "        vertical-align: top;\n",
       "    }\n",
       "\n",
       "    .dataframe thead th {\n",
       "        text-align: right;\n",
       "    }\n",
       "</style>\n",
       "<table border=\"1\" class=\"dataframe\">\n",
       "  <thead>\n",
       "    <tr style=\"text-align: right;\">\n",
       "      <th></th>\n",
       "      <th>Title</th>\n",
       "      <th>Author</th>\n",
       "      <th>Year Published</th>\n",
       "      <th>Number of Logs</th>\n",
       "    </tr>\n",
       "  </thead>\n",
       "  <tbody>\n",
       "    <tr>\n",
       "      <th>0</th>\n",
       "      <td>Atomic Habits</td>\n",
       "      <td>by James Clear</td>\n",
       "      <td>First published in 2016\\n            \\n       ...</td>\n",
       "      <td>None</td>\n",
       "    </tr>\n",
       "    <tr>\n",
       "      <th>1</th>\n",
       "      <td>It Ends With Us</td>\n",
       "      <td>by Colleen Hoover</td>\n",
       "      <td>First published in 2012\\n            \\n       ...</td>\n",
       "      <td>None</td>\n",
       "    </tr>\n",
       "    <tr>\n",
       "      <th>2</th>\n",
       "      <td>The 48 Laws of Power</td>\n",
       "      <td>by Robert Greene and Joost Elffers</td>\n",
       "      <td>First published in 1998\\n            \\n       ...</td>\n",
       "      <td>None</td>\n",
       "    </tr>\n",
       "    <tr>\n",
       "      <th>3</th>\n",
       "      <td>The Subtle Art of Not Giving a F*ck</td>\n",
       "      <td>by Mark Manson</td>\n",
       "      <td>First published in 2016\\n            \\n       ...</td>\n",
       "      <td>None</td>\n",
       "    </tr>\n",
       "    <tr>\n",
       "      <th>4</th>\n",
       "      <td>Um casamento arranjado</td>\n",
       "      <td>by Zana Kheiron</td>\n",
       "      <td>First published in 2019\\n            \\n       ...</td>\n",
       "      <td>None</td>\n",
       "    </tr>\n",
       "    <tr>\n",
       "      <th>...</th>\n",
       "      <td>...</td>\n",
       "      <td>...</td>\n",
       "      <td>...</td>\n",
       "      <td>...</td>\n",
       "    </tr>\n",
       "    <tr>\n",
       "      <th>194</th>\n",
       "      <td>Things Fall Apart</td>\n",
       "      <td>by Chinua Achebe</td>\n",
       "      <td>First published in 1958\\n            \\n       ...</td>\n",
       "      <td>None</td>\n",
       "    </tr>\n",
       "    <tr>\n",
       "      <th>195</th>\n",
       "      <td>A child called \"it\"</td>\n",
       "      <td>by David J. Pelzer</td>\n",
       "      <td>First published in 1987\\n            \\n       ...</td>\n",
       "      <td>None</td>\n",
       "    </tr>\n",
       "    <tr>\n",
       "      <th>196</th>\n",
       "      <td>The Titan's Curse</td>\n",
       "      <td>by Rick Riordan</td>\n",
       "      <td>First published in 2007\\n            \\n       ...</td>\n",
       "      <td>None</td>\n",
       "    </tr>\n",
       "    <tr>\n",
       "      <th>197</th>\n",
       "      <td>A Wrinkle in Time</td>\n",
       "      <td>by Madeleine L'Engle</td>\n",
       "      <td>First published in 1962\\n            \\n       ...</td>\n",
       "      <td>None</td>\n",
       "    </tr>\n",
       "    <tr>\n",
       "      <th>198</th>\n",
       "      <td>I, Robot</td>\n",
       "      <td>by Isaac Asimov</td>\n",
       "      <td>First published in 1950\\n            \\n       ...</td>\n",
       "      <td>None</td>\n",
       "    </tr>\n",
       "  </tbody>\n",
       "</table>\n",
       "<p>199 rows × 4 columns</p>\n",
       "</div>"
      ],
      "text/plain": [
       "                                   Title                              Author  \\\n",
       "0                          Atomic Habits                      by James Clear   \n",
       "1                        It Ends With Us                   by Colleen Hoover   \n",
       "2                   The 48 Laws of Power  by Robert Greene and Joost Elffers   \n",
       "3    The Subtle Art of Not Giving a F*ck                      by Mark Manson   \n",
       "4                 Um casamento arranjado                     by Zana Kheiron   \n",
       "..                                   ...                                 ...   \n",
       "194                    Things Fall Apart                    by Chinua Achebe   \n",
       "195                  A child called \"it\"                  by David J. Pelzer   \n",
       "196                    The Titan's Curse                     by Rick Riordan   \n",
       "197                    A Wrinkle in Time                by Madeleine L'Engle   \n",
       "198                             I, Robot                     by Isaac Asimov   \n",
       "\n",
       "                                        Year Published Number of Logs  \n",
       "0    First published in 2016\\n            \\n       ...           None  \n",
       "1    First published in 2012\\n            \\n       ...           None  \n",
       "2    First published in 1998\\n            \\n       ...           None  \n",
       "3    First published in 2016\\n            \\n       ...           None  \n",
       "4    First published in 2019\\n            \\n       ...           None  \n",
       "..                                                 ...            ...  \n",
       "194  First published in 1958\\n            \\n       ...           None  \n",
       "195  First published in 1987\\n            \\n       ...           None  \n",
       "196  First published in 2007\\n            \\n       ...           None  \n",
       "197  First published in 1962\\n            \\n       ...           None  \n",
       "198  First published in 1950\\n            \\n       ...           None  \n",
       "\n",
       "[199 rows x 4 columns]"
      ]
     },
     "execution_count": 3,
     "metadata": {},
     "output_type": "execute_result"
    }
   ],
   "source": [
    "books = {'Title':[], 'Author':[], 'Year Published':[], 'Number of Logs':[]}\n",
    "\n",
    "for i in range(1, 11):\n",
    "    url = f'https://openlibrary.org/trending/forever?page={i}'\n",
    "    response = requests.get(url)\n",
    "    soup = BeautifulSoup(response.text, 'html.parser')\n",
    "    \n",
    "    trends = soup.find_all('div', class_=\"sri__main\")\n",
    "    \n",
    "    for book in trends:\n",
    "        Title = book.find('div', class_='resultTitle').text.strip()\n",
    "        Author = book.find('span', class_='bookauthor').text.strip()\n",
    "        \n",
    "        detailed = book.find('span', class_='resultStats')\n",
    "        pubdate = detailed.find('span', class_='resultDetails').text.strip()\n",
    "        \n",
    "        pubdate_cleaned = pubdate.replace(\"—\", \"\").replace(\" editions\", \"\").strip()\n",
    "\n",
    "        logged_text = None\n",
    "        log_info = book.find(text=\"Logged\")\n",
    "        if log_info:\n",
    "            logged_text = log_info.strip()\n",
    "            \n",
    "        books['Title'].append(Title)\n",
    "        books['Author'].append(Author)\n",
    "        books['Year Published'].append(pubdate_cleaned)\n",
    "        books['Number of Logs'].append(logged_text)\n",
    "\n",
    "df = pd.DataFrame(books)\n",
    "\n",
    "df"
   ]
  },
  {
   "cell_type": "code",
   "execution_count": 56,
   "id": "0a09aee6-0c44-4076-ae23-4f415d9e0edb",
   "metadata": {},
   "outputs": [
    {
     "data": {
      "text/plain": [
       "0.1686577189472376"
      ]
     },
     "execution_count": 56,
     "metadata": {},
     "output_type": "execute_result"
    }
   ],
   "source": [
    "def calc_probability(n_books_with_a, total_books, draws=5):\n",
    "    probability = 1\n",
    "    for i in range(draws):\n",
    "        probability *= n_books_with_a / (total_books - i)\n",
    "        n_books_with_a -= 1\n",
    "    return probability\n",
    "\n",
    "probability = calc_probability(books_with_a, total_books)\n",
    "probability"
   ]
  },
  {
   "cell_type": "markdown",
   "id": "e0c22480-1a9c-4a8f-b0d9-7dfcb6bdebb2",
   "metadata": {},
   "source": [
    "<p style=\"color: #FFBB00; text-align: center;\"><b>The probability of all five books I pull containing the letter \"a\" in the title without replacement is about 17%.\n",
    "This is surprising to me, since the letter \"a\" is one of the most common letters, including different variations, in all existing languages. However, my code most likely only accounts for the english variant of the letter, and looking at the dataframe, there seems to be book in other languages on the trending page.</b></p>"
   ]
  },
  {
   "cell_type": "code",
   "execution_count": 76,
   "id": "42ba5c2f",
   "metadata": {},
   "outputs": [
    {
     "name": "stdout",
     "output_type": "stream",
     "text": [
      "Empirical Probability — 0.7035175879396985\n",
      "5 books with 'a' in a row with replacement — 0.17233551897604596\n"
     ]
    }
   ],
   "source": [
    "contains_a = df['Title'].apply(lambda x: 'a' in x.lower()).sum()\n",
    "\n",
    "total_books = len(df)\n",
    "\n",
    "p_empirical = contains_a / total_books\n",
    "\n",
    "p_5_books = p_empirical ** 5\n",
    "\n",
    "print(f\"Empirical Probability — {p_empirical}\")\n",
    "print(f\"5 books with 'a' in a row with replacement — {p_5_books}\")"
   ]
  },
  {
   "cell_type": "markdown",
   "id": "ef27cfac-c22d-47d7-b692-be45258eb8ec",
   "metadata": {},
   "source": [
    "<p style=\"color: #BB88ED; text-align: center;\"><b>There is about a 70% chance of getting a book on the trending page with an \"a\" in its title with one pull. This is expected, as \"a\" is a very common letter used in the English language. However, it is interesting how the probability of pulling five books in a row <i>with replacement</i> is lower. Despite there being 199 books in the dataframe, it seems the probability of all five books containing \"a\" is very low, as it is harder to get multiple successful events in a row.</b></p>"
   ]
  },
  {
   "cell_type": "code",
   "execution_count": 73,
   "id": "4b5fcb25",
   "metadata": {},
   "outputs": [
    {
     "name": "stdout",
     "output_type": "stream",
     "text": [
      "Standard Deviation with Replacement — 1.0212262026583705\n",
      "Standard Deviation without Replacement — 1.0108581554254064\n"
     ]
    }
   ],
   "source": [
    "import numpy as np\n",
    "\n",
    "n_draws = 5\n",
    "\n",
    "p_empirical = contains_a / total_books\n",
    "\n",
    "std_dev_with_replacement = np.sqrt(n_draws * p_empirical * (1 - p_empirical))\n",
    "\n",
    "std_dev_without_replacement = np.sqrt(n_draws * p_empirical * (1 - p_empirical) * (total_books - n_draws) / (total_books - 1))\n",
    "\n",
    "print(f\"Standard Deviation with Replacement — {std_dev_with_replacement}\")\n",
    "print(f\"Standard Deviation without Replacement — {std_dev_without_replacement}\")"
   ]
  },
  {
   "cell_type": "markdown",
   "id": "1a2e6619-c578-4ec4-b5dd-76a0844c8bf2",
   "metadata": {},
   "source": [
    "<p style=\"color: #FF7721; text-align: center;\"><b>The standard deviation of pulling five books in a row containing \"a\" in the name <i>with replacement</i>is 1.0212262026583705, meaning that, including the empirical probability, no matter how many times you perform this simulation, the outcome will always be around 17% or 70% depending on whether or not the book is placed back in after being taken out.\n",
    "The standard deviation of pulling five books in a row containing \"a\" in the name <i>without replacement</i> is 1.0108581554254064. This means that, similar to my previous analysis, the outcome of this will also be around 17%.</b></p>"
   ]
  },
  {
   "cell_type": "markdown",
   "id": "a8bc8bcb",
   "metadata": {},
   "source": [
    "<p style=\"color: #635b9b; text-align: center;\"><b>The probability of getting five books on the trending page with the letter \"a\" in the title is about 17% with replacement. While there is a 70% chance of drawing a book once with \"a\" in it's title, the chances of all five containing \"a\" is much lower due to the fact that it is much harder for all five pulls to be identical. This applies to both the simulation with and without replacement.\n",
    "This simuation, however, only accounts for books with the english letter a, and all other a's like á à â ã ä å ă ą are not included.\n",
    "Note that I am unsure if these a's are all the same, but I do mean all variations of this letter.</b></p>"
   ]
  }
 ],
 "metadata": {
  "kernelspec": {
   "display_name": "Python 3 (ipykernel)",
   "language": "python",
   "name": "python3"
  },
  "language_info": {
   "codemirror_mode": {
    "name": "ipython",
    "version": 3
   },
   "file_extension": ".py",
   "mimetype": "text/x-python",
   "name": "python",
   "nbconvert_exporter": "python",
   "pygments_lexer": "ipython3",
   "version": "3.12.4"
  }
 },
 "nbformat": 4,
 "nbformat_minor": 5
}
