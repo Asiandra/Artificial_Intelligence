{
 "cells": [
  {
   "cell_type": "markdown",
   "id": "9919c268",
   "metadata": {},
   "source": [
    "# Choose a Data Set\n",
    "\n",
    "Create your own dataset by scraping one of the following websites *(level 5)*:\n",
    "- [Wikipedia](https://www.wikipedia.org/)\n",
    "- [OpenLibrary](https://openlibrary.org/)\n",
    "\n",
    "**OR** \n",
    "\n",
    "Use data gathered from one of the following APIs *(level 4)*: \n",
    "- [TMDB](https://developer.themoviedb.org/reference/intro/getting-started)\n",
    "- [College Scorecard](https://collegescorecard.ed.gov/data/api-documentation/)\n",
    "\n",
    "**OR** \n",
    "\n",
    "Pick a JSON dataset *(level 3)*:\n",
    "- [Food/Restaurant Data](https://drive.google.com/drive/folders/1V94S6WpclvQmbnW88KVMD4EruryA1oma?usp=drive_link)\n",
    "- [Fashion Data](https://drive.google.com/drive/folders/1V8SbFjtRRW8WVf3xBzg0gzLjOtMhHea_?usp=drive_link)\n",
    "\n",
    "**OR** \n",
    "\n",
    "Pick a CSV dataset *(level 2)*:\n",
    "- [LA Parking Tickets](https://drive.google.com/drive/folders/1vaOfwMi6QmZEGsXr8VM0ulPGzvTTBCgm?usp=drive_link)\n",
    "- [Hotels](https://drive.google.com/drive/folders/1IpVFxgwBJvJHKoOuBsk6WK2qYqFYP4hi?usp=drive_link)"
   ]
  },
  {
   "cell_type": "markdown",
   "id": "ae147ea6",
   "metadata": {},
   "source": [
    "# My Question\n",
    "### What is the probability of getting a book's name on the trending page with the letter \"z\" in it?"
   ]
  },
  {
   "cell_type": "markdown",
   "id": "149f324f",
   "metadata": {},
   "source": [
    "# My Answer"
   ]
  },
  {
   "cell_type": "code",
   "execution_count": 1,
   "id": "b228559e",
   "metadata": {},
   "outputs": [],
   "source": [
    "import requests\n",
    "from bs4 import BeautifulSoup\n",
    "import pandas as pd"
   ]
  },
  {
   "cell_type": "code",
   "execution_count": 2,
   "id": "633c547d",
   "metadata": {},
   "outputs": [
    {
     "name": "stderr",
     "output_type": "stream",
     "text": [
      "C:\\Users\\kitka\\AppData\\Local\\Temp\\ipykernel_10368\\381719723.py:24: DeprecationWarning: The 'text' argument to find()-type methods is deprecated. Use 'string' instead.\n",
      "  log_info = book.find(text=\"Logged\")\n"
     ]
    },
    {
     "name": "stdout",
     "output_type": "stream",
     "text": [
      "0.0201\n"
     ]
    }
   ],
   "source": [
    "import requests\n",
    "from bs4 import BeautifulSoup\n",
    "import pandas as pd\n",
    "\n",
    "books = {'Title':[], 'Author':[], 'Year Published':[], 'Number of Logs':[]}\n",
    "\n",
    "for i in range(1, 11):\n",
    "    url = f'https://openlibrary.org/trending/forever?page={i}'\n",
    "    response = requests.get(url)\n",
    "    soup = BeautifulSoup(response.text, 'html.parser')\n",
    "    \n",
    "    trends = soup.find_all('div', class_=\"sri__main\")\n",
    "    \n",
    "    for book in trends:\n",
    "        Title = book.find('div', class_='resultTitle').text.strip()\n",
    "        Author = book.find('span', class_='bookauthor').text.strip()\n",
    "        \n",
    "        detailed = book.find('span', class_='resultStats')\n",
    "        pubdate = detailed.find('span', class_='resultDetails').text.strip()\n",
    "        \n",
    "        pubdate_cleaned = pubdate.replace(\"—\", \"\").replace(\" editions\", \"\").strip()\n",
    "\n",
    "        logged_text = None\n",
    "        log_info = book.find(text=\"Logged\")\n",
    "        if log_info:\n",
    "            logged_text = log_info.strip()\n",
    "            \n",
    "        books['Title'].append(Title)\n",
    "        books['Author'].append(Author)\n",
    "        books['Year Published'].append(pubdate_cleaned)\n",
    "        books['Number of Logs'].append(logged_text)\n",
    "\n",
    "df = pd.DataFrame(books)\n",
    "\n",
    "books_with_z = df[df['Title'].str.contains('z', case=False, na=False)]\n",
    "\n",
    "probability = len(books_with_z) / len(df)\n",
    "\n",
    "print(f\"{probability:.4f}\")"
   ]
  },
  {
   "cell_type": "markdown",
   "id": "a8bc8bcb",
   "metadata": {},
   "source": [
    "<p style=\"color: #635b9b; text-align: center;\">There is about a 0.02% chance of getting a book on th trending page with a z in its title.</p>"
   ]
  },
  {
   "cell_type": "code",
   "execution_count": null,
   "id": "d66874a4",
   "metadata": {},
   "outputs": [],
   "source": []
  }
 ],
 "metadata": {
  "kernelspec": {
   "display_name": "Python 3 (ipykernel)",
   "language": "python",
   "name": "python3"
  },
  "language_info": {
   "codemirror_mode": {
    "name": "ipython",
    "version": 3
   },
   "file_extension": ".py",
   "mimetype": "text/x-python",
   "name": "python",
   "nbconvert_exporter": "python",
   "pygments_lexer": "ipython3",
   "version": "3.12.4"
  }
 },
 "nbformat": 4,
 "nbformat_minor": 5
}
