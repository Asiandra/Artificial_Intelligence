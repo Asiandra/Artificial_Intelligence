{
 "cells": [
  {
   "cell_type": "markdown",
   "id": "9919c268",
   "metadata": {},
   "source": [
    "# Choose a Data Set\n",
    "\n",
    "Create your own dataset by scraping one of the following websites *(level 5)*:\n",
    "- [Wikipedia](https://www.wikipedia.org/)\n",
    "- [OpenLibrary](https://openlibrary.org/)\n",
    "\n",
    "**OR** \n",
    "\n",
    "Use data gathered from one of the following APIs *(level 4)*: \n",
    "- [TMDB](https://developer.themoviedb.org/reference/intro/getting-started)\n",
    "- [College Scorecard](https://collegescorecard.ed.gov/data/api-documentation/)\n",
    "\n",
    "**OR** \n",
    "\n",
    "Pick a JSON dataset *(level 3)*:\n",
    "- [Food/Restaurant Data](https://drive.google.com/drive/folders/1V94S6WpclvQmbnW88KVMD4EruryA1oma?usp=drive_link)\n",
    "- [Fashion Data](https://drive.google.com/drive/folders/1V8SbFjtRRW8WVf3xBzg0gzLjOtMhHea_?usp=drive_link)\n",
    "\n",
    "**OR** \n",
    "\n",
    "Pick a CSV dataset *(level 2)*:\n",
    "- [LA Parking Tickets](https://drive.google.com/drive/folders/1vaOfwMi6QmZEGsXr8VM0ulPGzvTTBCgm?usp=drive_link)\n",
    "- [Hotels](https://drive.google.com/drive/folders/1IpVFxgwBJvJHKoOuBsk6WK2qYqFYP4hi?usp=drive_link)"
   ]
  },
  {
   "cell_type": "markdown",
   "id": "ae147ea6",
   "metadata": {},
   "source": [
    "# My Question\n",
    "### Of all the authors on the trending page, what is the average amount of their books on the trending page?"
   ]
  },
  {
   "cell_type": "markdown",
   "id": "149f324f",
   "metadata": {},
   "source": [
    "# My Answer"
   ]
  },
  {
   "cell_type": "markdown",
   "id": "a456a17a",
   "metadata": {},
   "source": [
    "<h1 style=\"text-align: center;\">Analysis Techniques</h1>\n",
    "<p style=\"text-align: center;\">Simple theoretical probability<br>\n",
    "The Complement Rule<br>\n",
    "Mutual Exclusivity vs. Independent Events<br>\n",
    "Theoretical Probability with the Addition Rule<br>\n",
    "Theoretical Probability with the Multiplication Rule<br>\n",
    "Empirical Probability<br>\n",
    "Drawing without Replacement<br>\n",
    "Bayes Theorem<br>\n",
    "Expected value<br>\n",
    "Standard deviation of expected values<br>\n",
    "Probability distributions (histogram of all possible values of a random variable)<br>\n",
    "</p>"
   ]
  },
  {
   "cell_type": "code",
   "execution_count": 1,
   "id": "b228559e",
   "metadata": {},
   "outputs": [],
   "source": [
    "import requests\n",
    "from bs4 import BeautifulSoup\n",
    "import pandas as pd"
   ]
  },
  {
   "cell_type": "code",
   "execution_count": 8,
   "id": "633c547d",
   "metadata": {},
   "outputs": [
    {
     "data": {
      "text/html": [
       "<div>\n",
       "<style scoped>\n",
       "    .dataframe tbody tr th:only-of-type {\n",
       "        vertical-align: middle;\n",
       "    }\n",
       "\n",
       "    .dataframe tbody tr th {\n",
       "        vertical-align: top;\n",
       "    }\n",
       "\n",
       "    .dataframe thead th {\n",
       "        text-align: right;\n",
       "    }\n",
       "</style>\n",
       "<table border=\"1\" class=\"dataframe\">\n",
       "  <thead>\n",
       "    <tr style=\"text-align: right;\">\n",
       "      <th></th>\n",
       "      <th>Title</th>\n",
       "      <th>Author</th>\n",
       "      <th>Year Published</th>\n",
       "      <th>Number of Logs</th>\n",
       "    </tr>\n",
       "  </thead>\n",
       "  <tbody>\n",
       "    <tr>\n",
       "      <th>0</th>\n",
       "      <td>Atomic Habits</td>\n",
       "      <td>by James Clear</td>\n",
       "      <td>First published in 2016\\n            \\n       ...</td>\n",
       "      <td>None</td>\n",
       "    </tr>\n",
       "    <tr>\n",
       "      <th>1</th>\n",
       "      <td>It Ends With Us</td>\n",
       "      <td>by Colleen Hoover</td>\n",
       "      <td>First published in 2012\\n            \\n       ...</td>\n",
       "      <td>None</td>\n",
       "    </tr>\n",
       "    <tr>\n",
       "      <th>2</th>\n",
       "      <td>The 48 Laws of Power</td>\n",
       "      <td>by Robert Greene and Joost Elffers</td>\n",
       "      <td>First published in 1998\\n            \\n       ...</td>\n",
       "      <td>None</td>\n",
       "    </tr>\n",
       "    <tr>\n",
       "      <th>3</th>\n",
       "      <td>The Subtle Art of Not Giving a F*ck</td>\n",
       "      <td>by Mark Manson</td>\n",
       "      <td>First published in 2016\\n            \\n       ...</td>\n",
       "      <td>None</td>\n",
       "    </tr>\n",
       "    <tr>\n",
       "      <th>4</th>\n",
       "      <td>Um casamento arranjado</td>\n",
       "      <td>by Zana Kheiron</td>\n",
       "      <td>First published in 2019\\n            \\n       ...</td>\n",
       "      <td>None</td>\n",
       "    </tr>\n",
       "    <tr>\n",
       "      <th>...</th>\n",
       "      <td>...</td>\n",
       "      <td>...</td>\n",
       "      <td>...</td>\n",
       "      <td>...</td>\n",
       "    </tr>\n",
       "    <tr>\n",
       "      <th>194</th>\n",
       "      <td>Things Fall Apart</td>\n",
       "      <td>by Chinua Achebe</td>\n",
       "      <td>First published in 1958\\n            \\n       ...</td>\n",
       "      <td>None</td>\n",
       "    </tr>\n",
       "    <tr>\n",
       "      <th>195</th>\n",
       "      <td>A child called \"it\"</td>\n",
       "      <td>by David J. Pelzer</td>\n",
       "      <td>First published in 1987\\n            \\n       ...</td>\n",
       "      <td>None</td>\n",
       "    </tr>\n",
       "    <tr>\n",
       "      <th>196</th>\n",
       "      <td>The Titan's Curse</td>\n",
       "      <td>by Rick Riordan</td>\n",
       "      <td>First published in 2007\\n            \\n       ...</td>\n",
       "      <td>None</td>\n",
       "    </tr>\n",
       "    <tr>\n",
       "      <th>197</th>\n",
       "      <td>A Wrinkle in Time</td>\n",
       "      <td>by Madeleine L'Engle</td>\n",
       "      <td>First published in 1962\\n            \\n       ...</td>\n",
       "      <td>None</td>\n",
       "    </tr>\n",
       "    <tr>\n",
       "      <th>198</th>\n",
       "      <td>I, Robot</td>\n",
       "      <td>by Isaac Asimov</td>\n",
       "      <td>First published in 1950\\n            \\n       ...</td>\n",
       "      <td>None</td>\n",
       "    </tr>\n",
       "  </tbody>\n",
       "</table>\n",
       "<p>199 rows × 4 columns</p>\n",
       "</div>"
      ],
      "text/plain": [
       "                                   Title                              Author  \\\n",
       "0                          Atomic Habits                      by James Clear   \n",
       "1                        It Ends With Us                   by Colleen Hoover   \n",
       "2                   The 48 Laws of Power  by Robert Greene and Joost Elffers   \n",
       "3    The Subtle Art of Not Giving a F*ck                      by Mark Manson   \n",
       "4                 Um casamento arranjado                     by Zana Kheiron   \n",
       "..                                   ...                                 ...   \n",
       "194                    Things Fall Apart                    by Chinua Achebe   \n",
       "195                  A child called \"it\"                  by David J. Pelzer   \n",
       "196                    The Titan's Curse                     by Rick Riordan   \n",
       "197                    A Wrinkle in Time                by Madeleine L'Engle   \n",
       "198                             I, Robot                     by Isaac Asimov   \n",
       "\n",
       "                                        Year Published Number of Logs  \n",
       "0    First published in 2016\\n            \\n       ...           None  \n",
       "1    First published in 2012\\n            \\n       ...           None  \n",
       "2    First published in 1998\\n            \\n       ...           None  \n",
       "3    First published in 2016\\n            \\n       ...           None  \n",
       "4    First published in 2019\\n            \\n       ...           None  \n",
       "..                                                 ...            ...  \n",
       "194  First published in 1958\\n            \\n       ...           None  \n",
       "195  First published in 1987\\n            \\n       ...           None  \n",
       "196  First published in 2007\\n            \\n       ...           None  \n",
       "197  First published in 1962\\n            \\n       ...           None  \n",
       "198  First published in 1950\\n            \\n       ...           None  \n",
       "\n",
       "[199 rows x 4 columns]"
      ]
     },
     "execution_count": 8,
     "metadata": {},
     "output_type": "execute_result"
    }
   ],
   "source": [
    "books = {'Title':[], 'Author':[], 'Year Published':[], 'Number of Logs':[]}\n",
    "\n",
    "for i in range(1, 11):\n",
    "    url = f'https://openlibrary.org/trending/forever?page={i}'\n",
    "    response = requests.get(url)\n",
    "    soup = BeautifulSoup(response.text, 'html.parser')\n",
    "    \n",
    "    trends = soup.find_all('div', class_=\"sri__main\")\n",
    "    \n",
    "    for book in trends:\n",
    "        Title = book.find('div', class_='resultTitle').text.strip()\n",
    "        Author = book.find('span', class_='bookauthor').text.strip()\n",
    "        \n",
    "        detailed = book.find('span', class_='resultStats')\n",
    "        pubdate = detailed.find('span', class_='resultDetails').text.strip()\n",
    "        \n",
    "        pubdate_cleaned = pubdate.replace(\"—\", \"\").replace(\" editions\", \"\").strip()\n",
    "\n",
    "        logged_text = None\n",
    "        log_info = book.find(text=\"Logged\")\n",
    "        if log_info:\n",
    "            logged_text = log_info.strip()\n",
    "            \n",
    "        books['Title'].append(Title)\n",
    "        books['Author'].append(Author)\n",
    "        books['Year Published'].append(pubdate_cleaned)\n",
    "        books['Number of Logs'].append(logged_text)\n",
    "\n",
    "df = pd.DataFrame(books)\n",
    "\n",
    "df"
   ]
  },
  {
   "cell_type": "code",
   "execution_count": 9,
   "id": "f4ca141a",
   "metadata": {},
   "outputs": [
    {
     "data": {
      "text/plain": [
       "1.251572327044025"
      ]
     },
     "execution_count": 9,
     "metadata": {},
     "output_type": "execute_result"
    }
   ],
   "source": [
    "author_counts = df.groupby('Author').size()\n",
    "average_books = author_counts.mean()\n",
    "average_books"
   ]
  },
  {
   "cell_type": "markdown",
   "id": "a8bc8bcb",
   "metadata": {},
   "source": [
    "<p style=\"color: #635b9b; text-align: center;\">The average amount of books on the trending page from authors on the trending page is one.</p>"
   ]
  },
  {
   "cell_type": "code",
   "execution_count": null,
   "id": "d66874a4",
   "metadata": {},
   "outputs": [],
   "source": []
  }
 ],
 "metadata": {
  "kernelspec": {
   "display_name": "Python 3 (ipykernel)",
   "language": "python",
   "name": "python3"
  },
  "language_info": {
   "codemirror_mode": {
    "name": "ipython",
    "version": 3
   },
   "file_extension": ".py",
   "mimetype": "text/x-python",
   "name": "python",
   "nbconvert_exporter": "python",
   "pygments_lexer": "ipython3",
   "version": "3.12.4"
  }
 },
 "nbformat": 4,
 "nbformat_minor": 5
}
