{
 "cells": [
  {
   "cell_type": "code",
   "execution_count": 2,
   "id": "2c876275",
   "metadata": {},
   "outputs": [
    {
     "data": {
      "text/plain": [
       "Index(['PassengerId', 'Country', 'Firstname', 'Lastname', 'Sex', 'Age',\n",
       "       'Category', 'Survived'],\n",
       "      dtype='object')"
      ]
     },
     "execution_count": 2,
     "metadata": {},
     "output_type": "execute_result"
    }
   ],
   "source": [
    "import pandas as pd\n",
    "import seaborn as sns\n",
    "\n",
    "df = pd.read_csv(\"estonia.csv\")\n",
    "df.columns"
   ]
  },
  {
   "cell_type": "code",
   "execution_count": 3,
   "id": "6eb0af29",
   "metadata": {},
   "outputs": [
    {
     "data": {
      "text/html": [
       "<div>\n",
       "<style scoped>\n",
       "    .dataframe tbody tr th:only-of-type {\n",
       "        vertical-align: middle;\n",
       "    }\n",
       "\n",
       "    .dataframe tbody tr th {\n",
       "        vertical-align: top;\n",
       "    }\n",
       "\n",
       "    .dataframe thead th {\n",
       "        text-align: right;\n",
       "    }\n",
       "</style>\n",
       "<table border=\"1\" class=\"dataframe\">\n",
       "  <thead>\n",
       "    <tr style=\"text-align: right;\">\n",
       "      <th></th>\n",
       "      <th>PassengerId</th>\n",
       "      <th>Country</th>\n",
       "      <th>Firstname</th>\n",
       "      <th>Lastname</th>\n",
       "      <th>Sex</th>\n",
       "      <th>Age</th>\n",
       "      <th>Category</th>\n",
       "      <th>Survived</th>\n",
       "    </tr>\n",
       "  </thead>\n",
       "  <tbody>\n",
       "    <tr>\n",
       "      <th>0</th>\n",
       "      <td>1</td>\n",
       "      <td>Sweden</td>\n",
       "      <td>ARVID KALLE</td>\n",
       "      <td>AADLI</td>\n",
       "      <td>M</td>\n",
       "      <td>62</td>\n",
       "      <td>P</td>\n",
       "      <td>0</td>\n",
       "    </tr>\n",
       "    <tr>\n",
       "      <th>1</th>\n",
       "      <td>2</td>\n",
       "      <td>Estonia</td>\n",
       "      <td>LEA</td>\n",
       "      <td>AALISTE</td>\n",
       "      <td>F</td>\n",
       "      <td>22</td>\n",
       "      <td>C</td>\n",
       "      <td>0</td>\n",
       "    </tr>\n",
       "    <tr>\n",
       "      <th>2</th>\n",
       "      <td>3</td>\n",
       "      <td>Estonia</td>\n",
       "      <td>AIRI</td>\n",
       "      <td>AAVASTE</td>\n",
       "      <td>F</td>\n",
       "      <td>21</td>\n",
       "      <td>C</td>\n",
       "      <td>0</td>\n",
       "    </tr>\n",
       "    <tr>\n",
       "      <th>3</th>\n",
       "      <td>4</td>\n",
       "      <td>Sweden</td>\n",
       "      <td>JURI</td>\n",
       "      <td>AAVIK</td>\n",
       "      <td>M</td>\n",
       "      <td>53</td>\n",
       "      <td>C</td>\n",
       "      <td>0</td>\n",
       "    </tr>\n",
       "    <tr>\n",
       "      <th>4</th>\n",
       "      <td>5</td>\n",
       "      <td>Sweden</td>\n",
       "      <td>BRITTA ELISABET</td>\n",
       "      <td>AHLSTROM</td>\n",
       "      <td>F</td>\n",
       "      <td>55</td>\n",
       "      <td>P</td>\n",
       "      <td>0</td>\n",
       "    </tr>\n",
       "    <tr>\n",
       "      <th>5</th>\n",
       "      <td>6</td>\n",
       "      <td>Sweden</td>\n",
       "      <td>GERD INGA MAGNHILD</td>\n",
       "      <td>AHLSTROM</td>\n",
       "      <td>F</td>\n",
       "      <td>71</td>\n",
       "      <td>P</td>\n",
       "      <td>0</td>\n",
       "    </tr>\n",
       "  </tbody>\n",
       "</table>\n",
       "</div>"
      ],
      "text/plain": [
       "   PassengerId  Country           Firstname  Lastname Sex  Age Category  \\\n",
       "0            1   Sweden         ARVID KALLE     AADLI   M   62        P   \n",
       "1            2  Estonia                 LEA   AALISTE   F   22        C   \n",
       "2            3  Estonia                AIRI   AAVASTE   F   21        C   \n",
       "3            4   Sweden                JURI     AAVIK   M   53        C   \n",
       "4            5   Sweden     BRITTA ELISABET  AHLSTROM   F   55        P   \n",
       "5            6   Sweden  GERD INGA MAGNHILD  AHLSTROM   F   71        P   \n",
       "\n",
       "   Survived  \n",
       "0         0  \n",
       "1         0  \n",
       "2         0  \n",
       "3         0  \n",
       "4         0  \n",
       "5         0  "
      ]
     },
     "execution_count": 3,
     "metadata": {},
     "output_type": "execute_result"
    }
   ],
   "source": [
    "df.head(6)"
   ]
  },
  {
   "cell_type": "code",
   "execution_count": 8,
   "id": "3a217ba9",
   "metadata": {},
   "outputs": [
    {
     "data": {
      "text/html": [
       "<div>\n",
       "<style scoped>\n",
       "    .dataframe tbody tr th:only-of-type {\n",
       "        vertical-align: middle;\n",
       "    }\n",
       "\n",
       "    .dataframe tbody tr th {\n",
       "        vertical-align: top;\n",
       "    }\n",
       "\n",
       "    .dataframe thead th {\n",
       "        text-align: right;\n",
       "    }\n",
       "</style>\n",
       "<table border=\"1\" class=\"dataframe\">\n",
       "  <thead>\n",
       "    <tr style=\"text-align: right;\">\n",
       "      <th></th>\n",
       "      <th>Male</th>\n",
       "      <th>Female</th>\n",
       "    </tr>\n",
       "  </thead>\n",
       "  <tbody>\n",
       "    <tr>\n",
       "      <th>Adult</th>\n",
       "      <td>479</td>\n",
       "      <td>468</td>\n",
       "    </tr>\n",
       "    <tr>\n",
       "      <th>Minor</th>\n",
       "      <td>24</td>\n",
       "      <td>1</td>\n",
       "    </tr>\n",
       "    <tr>\n",
       "      <th>Sex</th>\n",
       "      <td>503</td>\n",
       "      <td>469</td>\n",
       "    </tr>\n",
       "    <tr>\n",
       "      <th>Adult Total</th>\n",
       "      <td>947</td>\n",
       "      <td>947</td>\n",
       "    </tr>\n",
       "    <tr>\n",
       "      <th>Minor Total</th>\n",
       "      <td>25</td>\n",
       "      <td>25</td>\n",
       "    </tr>\n",
       "  </tbody>\n",
       "</table>\n",
       "</div>"
      ],
      "text/plain": [
       "             Male  Female\n",
       "Adult         479     468\n",
       "Minor          24       1\n",
       "Sex           503     469\n",
       "Adult Total   947     947\n",
       "Minor Total    25      25"
      ]
     },
     "execution_count": 8,
     "metadata": {},
     "output_type": "execute_result"
    }
   ],
   "source": [
    "MA=0\n",
    "MM=0\n",
    "MT=0\n",
    "FA=0\n",
    "FM=0\n",
    "FT=0\n",
    "A=0\n",
    "M=0\n",
    "\n",
    "for idx in range(len(df)):\n",
    "    if df.loc[idx]['Sex'] == 'M' and df.loc[idx]['Age'] >18:\n",
    "        MA += 1\n",
    "    elif df.loc[idx]['Sex'] == 'M' and df.loc[idx]['Age'] <= 18:\n",
    "        MM += 1\n",
    "    elif df.loc[idx]['Sex'] == 'F' and df.loc[idx]['Age'] >18:\n",
    "        FA += 1\n",
    "    elif df.loc[idx]['Sex'] == 'F' and df.loc[idx]['Age'] <= 1:\n",
    "        FM += 1\n",
    "\n",
    "A = MA + FA\n",
    "M = MM + FM\n",
    "FT = FA + FM\n",
    "MT = MA + MM\n",
    "\n",
    "comTable = pd.DataFrame({\n",
    "    'Male': [MA, MM, MT, A, M],\n",
    "    'Female': [FA, FM, FT, A, M]    \n",
    "})\n",
    "comTable.index = ['Adult', 'Minor', 'Sex', 'Adult Total', 'Minor Total']\n",
    "\n",
    "comTable.head()"
   ]
  },
  {
   "cell_type": "code",
   "execution_count": 5,
   "id": "5cb1b873",
   "metadata": {},
   "outputs": [
    {
     "data": {
      "text/html": [
       "<div>\n",
       "<style scoped>\n",
       "    .dataframe tbody tr th:only-of-type {\n",
       "        vertical-align: middle;\n",
       "    }\n",
       "\n",
       "    .dataframe tbody tr th {\n",
       "        vertical-align: top;\n",
       "    }\n",
       "\n",
       "    .dataframe thead th {\n",
       "        text-align: right;\n",
       "    }\n",
       "</style>\n",
       "<table border=\"1\" class=\"dataframe\">\n",
       "  <thead>\n",
       "    <tr style=\"text-align: right;\">\n",
       "      <th></th>\n",
       "      <th>Male</th>\n",
       "      <th>Female</th>\n",
       "    </tr>\n",
       "  </thead>\n",
       "  <tbody>\n",
       "    <tr>\n",
       "      <th>Survived</th>\n",
       "      <td>393</td>\n",
       "      <td>459</td>\n",
       "    </tr>\n",
       "    <tr>\n",
       "      <th>Died</th>\n",
       "      <td>110</td>\n",
       "      <td>27</td>\n",
       "    </tr>\n",
       "  </tbody>\n",
       "</table>\n",
       "</div>"
      ],
      "text/plain": [
       "          Male  Female\n",
       "Survived   393     459\n",
       "Died       110      27"
      ]
     },
     "execution_count": 5,
     "metadata": {},
     "output_type": "execute_result"
    }
   ],
   "source": [
    "MS=0\n",
    "MD=0\n",
    "FS=0\n",
    "FD=0\n",
    "\n",
    "for idx in range(len(df)):\n",
    "    if df.loc[idx]['Sex'] == 'M' and df.loc[idx]['Survived'] ==0:\n",
    "        MS += 1\n",
    "    elif df.loc[idx]['Sex'] == 'M' and df.loc[idx]['Survived'] ==1:\n",
    "        MD += 1\n",
    "    elif df.loc[idx]['Sex'] == 'F' and df.loc[idx]['Survived'] ==0:\n",
    "        FS += 1\n",
    "    elif df.loc[idx]['Sex'] == 'F' and df.loc[idx]['Survived'] == 1:\n",
    "        FD += 1\n",
    "        \n",
    "comTable = pd.DataFrame({\n",
    "    'Male': [MS, MD],\n",
    "    'Female': [FS, FD],    \n",
    "})\n",
    "comTable.index = ['Survived', 'Died']\n",
    "\n",
    "comTable.head()"
   ]
  },
  {
   "cell_type": "code",
   "execution_count": 23,
   "id": "f39c84a3",
   "metadata": {},
   "outputs": [
    {
     "data": {
      "text/plain": [
       "<seaborn.axisgrid.FacetGrid at 0x213f02ccfa0>"
      ]
     },
     "execution_count": 23,
     "metadata": {},
     "output_type": "execute_result"
    },
    {
     "data": {
      "image/png": "[encoded data removed]",
      "text/plain": [
       "<Figure size 611x500 with 1 Axes>"
      ]
     },
     "metadata": {},
     "output_type": "display_data"
    }
   ],
   "source": [
    "data={\n",
    "    'Age Group': ['child', 'adult'],\n",
    "    'Survived': [3, 134],\n",
    "    'Died': [21, 831]\n",
    "}\n",
    "age_survival=pd.DataFrame(data)\n",
    "age_survival=pd.melt(age_survival, id_vars='Age Group')\n",
    "age_survival=age_survival.rename(columns={'variable': 'Survival'})\n",
    "\n",
    "sns.catplot(data=age_survival, x=\"Age Group\", y=\"value\", hue=\"Survival\", kind=\"bar\")"
   ]
  },
  {
   "cell_type": "code",
   "execution_count": 14,
   "id": "206c05ba",
   "metadata": {},
   "outputs": [
    {
     "data": {
      "text/html": [
       "<div>\n",
       "<style scoped>\n",
       "    .dataframe tbody tr th:only-of-type {\n",
       "        vertical-align: middle;\n",
       "    }\n",
       "\n",
       "    .dataframe tbody tr th {\n",
       "        vertical-align: top;\n",
       "    }\n",
       "\n",
       "    .dataframe thead th {\n",
       "        text-align: right;\n",
       "    }\n",
       "</style>\n",
       "<table border=\"1\" class=\"dataframe\">\n",
       "  <thead>\n",
       "    <tr style=\"text-align: right;\">\n",
       "      <th></th>\n",
       "      <th>Category P</th>\n",
       "      <th>Category C</th>\n",
       "    </tr>\n",
       "  </thead>\n",
       "  <tbody>\n",
       "    <tr>\n",
       "      <th>Survived</th>\n",
       "      <td>98</td>\n",
       "      <td>39</td>\n",
       "    </tr>\n",
       "    <tr>\n",
       "      <th>Died</th>\n",
       "      <td>698</td>\n",
       "      <td>154</td>\n",
       "    </tr>\n",
       "  </tbody>\n",
       "</table>\n",
       "</div>"
      ],
      "text/plain": [
       "          Category P  Category C\n",
       "Survived          98          39\n",
       "Died             698         154"
      ]
     },
     "execution_count": 14,
     "metadata": {},
     "output_type": "execute_result"
    }
   ],
   "source": [
    "PS=0\n",
    "PD=0\n",
    "CS=0\n",
    "CD=0\n",
    "\n",
    "for idx in range(len(df)):\n",
    "    if df.loc[idx]['Category'] == 'P' and df.loc[idx]['Survived'] ==0:\n",
    "        PD += 1\n",
    "    elif df.loc[idx]['Category'] == 'P' and df.loc[idx]['Survived'] ==1:\n",
    "        PS += 1\n",
    "    elif df.loc[idx]['Category'] == 'C' and df.loc[idx]['Survived'] ==0:\n",
    "        CD += 1\n",
    "    elif df.loc[idx]['Category'] == 'C' and df.loc[idx]['Survived'] == 1:\n",
    "        CS += 1\n",
    "        \n",
    "comTable = pd.DataFrame({\n",
    "    'Category P': [PS, PD],\n",
    "    'Category C': [CS, CD],    \n",
    "})\n",
    "comTable.index = ['Survived', 'Died']\n",
    "comTable.head()"
   ]
  },
  {
   "cell_type": "code",
   "execution_count": 15,
   "id": "2ec9f699-3556-49fd-a941-a10dfdb2f316",
   "metadata": {},
   "outputs": [
    {
     "data": {
      "text/plain": [
       "<seaborn.axisgrid.FacetGrid at 0x20e2fc0cfb0>"
      ]
     },
     "execution_count": 15,
     "metadata": {},
     "output_type": "execute_result"
    },
    {
     "data": {
      "image/png": "[encoded data removed]",
      "text/plain": [
       "<Figure size 611x500 with 1 Axes>"
      ]
     },
     "metadata": {},
     "output_type": "display_data"
    }
   ],
   "source": [
    "comTable_melt = comTable.reset_index().melt(id_vars='index', var_name='Category', value_name='Count')\n",
    "comTable_melt.rename(columns={'index': 'Survival'}, inplace=True)\n",
    "sns.catplot(data=comTable_melt, x='Category', y='Count', hue='Survival', kind='bar')"
   ]
  },
  {
   "cell_type": "code",
   "execution_count": null,
   "id": "7c90a048-74ca-4d78-bf73-d581af586e3e",
   "metadata": {},
   "outputs": [],
   "source": []
  },
  {
   "cell_type": "code",
   "execution_count": null,
   "id": "cd86cbbf-59dd-4fee-ae38-0f9d355dc4eb",
   "metadata": {},
   "outputs": [],
   "source": []
  }
 ],
 "metadata": {
  "kernelspec": {
   "display_name": "Python 3 (ipykernel)",
   "language": "python",
   "name": "python3"
  },
  "language_info": {
   "codemirror_mode": {
    "name": "ipython",
    "version": 3
   },
   "file_extension": ".py",
   "mimetype": "text/x-python",
   "name": "python",
   "nbconvert_exporter": "python",
   "pygments_lexer": "ipython3",
   "version": "3.12.4"
  }
 },
 "nbformat": 4,
 "nbformat_minor": 5
}
