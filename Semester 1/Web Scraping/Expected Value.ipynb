{
 "cells": [
  {
   "cell_type": "markdown",
   "id": "3dd037b1",
   "metadata": {},
   "source": [
    "# Mines"
   ]
  },
  {
   "cell_type": "code",
   "execution_count": 1,
   "id": "4d7c28a4",
   "metadata": {},
   "outputs": [
    {
     "data": {
      "text/plain": [
       "2920050"
      ]
     },
     "execution_count": 1,
     "metadata": {},
     "output_type": "execute_result"
    }
   ],
   "source": [
    "97335 * 30"
   ]
  },
  {
   "cell_type": "markdown",
   "id": "b471df3f",
   "metadata": {},
   "source": [
    "# Boulder"
   ]
  },
  {
   "cell_type": "code",
   "execution_count": 2,
   "id": "10ec30e0",
   "metadata": {},
   "outputs": [
    {
     "data": {
      "text/plain": [
       "2092140"
      ]
     },
     "execution_count": 2,
     "metadata": {},
     "output_type": "execute_result"
    }
   ],
   "source": [
    "69738 * 30"
   ]
  },
  {
   "cell_type": "code",
   "execution_count": null,
   "id": "19bc9e4f",
   "metadata": {},
   "outputs": [],
   "source": []
  }
 ],
 "metadata": {
  "kernelspec": {
   "display_name": "Python 3 (ipykernel)",
   "language": "python",
   "name": "python3"
  },
  "language_info": {
   "codemirror_mode": {
    "name": "ipython",
    "version": 3
   },
   "file_extension": ".py",
   "mimetype": "text/x-python",
   "name": "python",
   "nbconvert_exporter": "python",
   "pygments_lexer": "ipython3",
   "version": "3.9.13"
  }
 },
 "nbformat": 4,
 "nbformat_minor": 5
}
