{
 "cells": [
  {
   "cell_type": "code",
   "execution_count": 1,
   "id": "b382a613-510e-4ec3-b4b4-715f0708f486",
   "metadata": {},
   "outputs": [],
   "source": [
    "import requests\n",
    "from bs4 import BeautifulSoup\n",
    "import pandas as pd"
   ]
  },
  {
   "cell_type": "code",
   "execution_count": 3,
   "id": "6bcb4cc0-3dbe-404d-bd83-d4e580b86c39",
   "metadata": {},
   "outputs": [],
   "source": [
    "url = \"https://www.scrapethissite.com/pages/forms/\"\n",
    "response = requests.get(url)\n",
    "html_content = response.text\n",
    "soup = BeautifulSoup(html_content, \"html.parser\")"
   ]
  },
  {
   "cell_type": "code",
   "execution_count": 29,
   "id": "dbcf9a97-dbeb-488b-b86a-0b1e054c97b9",
   "metadata": {
    "scrolled": true
   },
   "outputs": [
    {
     "data": {
      "text/plain": [
       "[<td class=\"wins\">\n",
       "                             44\n",
       "                         </td>,\n",
       " <td class=\"wins\">\n",
       "                             31\n",
       "                         </td>,\n",
       " <td class=\"wins\">\n",
       "                             46\n",
       "                         </td>,\n",
       " <td class=\"wins\">\n",
       "                             49\n",
       "                         </td>,\n",
       " <td class=\"wins\">\n",
       "                             34\n",
       "                         </td>,\n",
       " <td class=\"wins\">\n",
       "                             37\n",
       "                         </td>,\n",
       " <td class=\"wins\">\n",
       "                             31\n",
       "                         </td>,\n",
       " <td class=\"wins\">\n",
       "                             46\n",
       "                         </td>,\n",
       " <td class=\"wins\">\n",
       "                             27\n",
       "                         </td>,\n",
       " <td class=\"wins\">\n",
       "                             39\n",
       "                         </td>,\n",
       " <td class=\"wins\">\n",
       "                             32\n",
       "                         </td>,\n",
       " <td class=\"wins\">\n",
       "                             25\n",
       "                         </td>,\n",
       " <td class=\"wins\">\n",
       "                             36\n",
       "                         </td>,\n",
       " <td class=\"wins\">\n",
       "                             33\n",
       "                         </td>,\n",
       " <td class=\"wins\">\n",
       "                             41\n",
       "                         </td>,\n",
       " <td class=\"wins\">\n",
       "                             16\n",
       "                         </td>,\n",
       " <td class=\"wins\">\n",
       "                             47\n",
       "                         </td>,\n",
       " <td class=\"wins\">\n",
       "                             23\n",
       "                         </td>,\n",
       " <td class=\"wins\">\n",
       "                             28\n",
       "                         </td>,\n",
       " <td class=\"wins\">\n",
       "                             37\n",
       "                         </td>,\n",
       " <td class=\"wins\">\n",
       "                             26\n",
       "                         </td>,\n",
       " <td class=\"wins\">\n",
       "                             36\n",
       "                         </td>,\n",
       " <td class=\"wins\">\n",
       "                             31\n",
       "                         </td>,\n",
       " <td class=\"wins\">\n",
       "                             31\n",
       "                         </td>,\n",
       " <td class=\"wins\">\n",
       "                             36\n",
       "                         </td>]"
      ]
     },
     "execution_count": 29,
     "metadata": {},
     "output_type": "execute_result"
    }
   ],
   "source": [
    "wins = soup.find_all('td', class_='wins')\n",
    "wins"
   ]
  },
  {
   "cell_type": "code",
   "execution_count": null,
   "id": "4eeeb269-918a-453c-bb05-686a31d69852",
   "metadata": {},
   "outputs": [],
   "source": []
  }
 ],
 "metadata": {
  "kernelspec": {
   "display_name": "Python 3 (ipykernel)",
   "language": "python",
   "name": "python3"
  },
  "language_info": {
   "codemirror_mode": {
    "name": "ipython",
    "version": 3
   },
   "file_extension": ".py",
   "mimetype": "text/x-python",
   "name": "python",
   "nbconvert_exporter": "python",
   "pygments_lexer": "ipython3",
   "version": "3.9.13"
  }
 },
 "nbformat": 4,
 "nbformat_minor": 5
}
