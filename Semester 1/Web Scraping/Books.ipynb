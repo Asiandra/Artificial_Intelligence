{
 "cells": [
  {
   "cell_type": "code",
   "execution_count": 1,
   "id": "88aa84c9",
   "metadata": {},
   "outputs": [],
   "source": [
    "import requests\n",
    "import pandas as pd\n",
    "from bs4 import BeautifulSoup"
   ]
  },
  {
   "cell_type": "code",
   "execution_count": 2,
   "id": "223c22b4",
   "metadata": {},
   "outputs": [],
   "source": [
    "url = \"https://openlibrary.org/trending/forever\"\n",
    "response = requests.get(url)\n",
    "html_content = response.text\n",
    "soup = BeautifulSoup(html_content, \"html.parser\")"
   ]
  },
  {
   "cell_type": "code",
   "execution_count": 8,
   "id": "0c800834",
   "metadata": {},
   "outputs": [
    {
     "data": {
      "text/plain": [
       "{'title': [['Atomic Habits'],\n",
       "  ['It Ends With Us'],\n",
       "  ['The 48 Laws of Power'],\n",
       "  ['The Subtle Art of Not Giving a F*ck'],\n",
       "  ['Um casamento arranjado'],\n",
       "  ['Rich Dad, Poor Dad'],\n",
       "  [\"Harry Potter and the Philosopher's Stone\"],\n",
       "  ['It Starts with Us'],\n",
       "  ['Control Your Mind and Master Your Feelings'],\n",
       "  ['Think and Grow Rich'],\n",
       "  ['Latidos Que No Dije'],\n",
       "  ['How to Win Friends and Influence People'],\n",
       "  ['Twisted Love'],\n",
       "  ['A Game of Thrones'],\n",
       "  ['It'],\n",
       "  ['A Court of Mist and Fury'],\n",
       "  ['The Psychology of Money'],\n",
       "  ['The Love Hypothesis'],\n",
       "  ['Shatter Me'],\n",
       "  ['Haunting Adeline']],\n",
       " 'author': [],\n",
       " 'publication year': [],\n",
       " 'logs': []}"
      ]
     },
     "execution_count": 8,
     "metadata": {},
     "output_type": "execute_result"
    }
   ],
   "source": [
    "book_info = {\"title\": [], \"author\": [], \"publication year\": [], \"logs\":[]}\n",
    "titles = soup.find_all('a', class_='results')\n",
    "\n",
    "for title in titles:\n",
    "    book_info[\"title\"]. append(title.contents)\n",
    "    \n",
    "book_info"
   ]
  },
  {
   "cell_type": "code",
   "execution_count": null,
   "id": "5467b7d1",
   "metadata": {},
   "outputs": [],
   "source": []
  }
 ],
 "metadata": {
  "kernelspec": {
   "display_name": "Python 3 (ipykernel)",
   "language": "python",
   "name": "python3"
  },
  "language_info": {
   "codemirror_mode": {
    "name": "ipython",
    "version": 3
   },
   "file_extension": ".py",
   "mimetype": "text/x-python",
   "name": "python",
   "nbconvert_exporter": "python",
   "pygments_lexer": "ipython3",
   "version": "3.9.13"
  }
 },
 "nbformat": 4,
 "nbformat_minor": 5
}
